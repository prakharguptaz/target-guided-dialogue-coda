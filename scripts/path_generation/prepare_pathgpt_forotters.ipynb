{
 "cells": [
  {
   "cell_type": "code",
   "execution_count": 2,
   "id": "be6a284b-be9c-4c7a-b57e-d94250fe314d",
   "metadata": {},
   "outputs": [],
   "source": [
    "%config Completer.use_jedi = False\n",
    "import json\n",
    "import random\n",
    "import copy\n",
    "import math\n",
    "import csv\n",
    "from tqdm import tqdm\n",
    "from pprint import pprint\n",
    "from IPython.display import JSON, display\n",
    "import random\n",
    "from operator import itemgetter\n",
    "# import spacy\n",
    "import string\n",
    "import jsonlines\n",
    "# import yake\n",
    "# kw_extractor = yake.KeywordExtractor(top=5, dedupLim=0.9)\n",
    "\n",
    "# nlp = spacy.load(\"en_core_web_lg\")\n",
    "# STOP_WORDS = spacy.lang.en.stop_words.STOP_WORDS\n",
    "\n",
    "def write_json_lines(output_file_name, list_data, output_folder ='./'):\n",
    "    with jsonlines.open(output_folder+ output_file_name, mode='w') as writer:\n",
    "        for dataline in list_data:\n",
    "            writer.write(dataline)\n",
    "        \n",
    "def get_json_lines(inp_file):\n",
    "    lines = []\n",
    "    with jsonlines.open(inp_file) as reader:\n",
    "        for obj in reader:\n",
    "            lines.append(obj)\n",
    "    return lines\n",
    "\n",
    "def get_csv_lines(filename):\n",
    "    lines = []\n",
    "    with open(filename, 'r') as read_obj:\n",
    "        csv_reader = csv.reader(read_obj)\n",
    "        for row in csv_reader:\n",
    "            lines.append(row)\n",
    "\n",
    "    return lines\n",
    "\n"
   ]
  },
  {
   "cell_type": "code",
   "execution_count": 3,
   "id": "a758540b-a6a9-46be-a33f-852903111463",
   "metadata": {},
   "outputs": [
    {
     "name": "stdout",
     "output_type": "stream",
     "text": [
      "1784\n"
     ]
    },
    {
     "data": {
      "application/json": {
       "context": "i enjoy sitting in front of the tv.",
       "context_keywords": [
        "enjoy",
        "sit front",
        "sit tv",
        "sit",
        "front",
        "sit",
        "tv"
       ],
       "paths": {
        "enjoy---have": {
         "augkeywords_intermediate": {
          "entities_inpath": [
           "kid",
           "relax watch",
           "front",
           "tv",
           "have kid",
           "lot",
           "sit tv",
           "not tend",
           "sit",
           "sit front",
           "have lot"
          ],
          "withentity_paths": [
           "enjoy being with",
           "enjoy watching film",
           "enjoying company of friends",
           "enjoy film",
           "enjoy watching tv"
          ],
          "withentity_scores": [
           5.355596425336912,
           3.0841758854333685,
           3.017830004728885,
           3.9629603360080994,
           2.646156938807885
          ]
         },
         "goldkeywords_intermediate": {
          "entities_inpath": [
           "relax watch",
           "not tend"
          ],
          "withentity_paths": [
           "enjoy _ capableof not tend _isa relax watch _haslastsubevent have",
           "enjoy _hassubevent relax watch isa not tend _ hasprerequisite have",
           "enjoy _ capableof not tend _isa relax watch _hasfirstsubevent have",
           "enjoy _ capableof not tend _isa relax watch _hasfirstsubevent have",
           "enjoy motivatedbygoal not tend _isa relax watch _haslastsubevent have"
          ],
          "withentity_scores": [
           2.3167154581816995,
           3.0884350802924425,
           2.87317475203555,
           2.87317475203555,
           3.0422058175869027
          ]
         },
         "headtotail_paths": [
          "enjoy _ hasprerequisite love another motivatedbygoal have",
          "enjoy _hassubevent get motivatedbygoal have",
          "enjoy _ hasprerequisite enjoy company of friends motivatedbygoal have",
          "enjoy _motivatedbygoal buy for loved one hasprerequisite have",
          "enjoy _motivatedbygoal live hasprerequisite have"
         ],
         "headtotail_scores": [
          4.973342169498664,
          6.121957210776355,
          2.0964968176432235,
          3.526202829940994,
          4.848085243156471
         ]
        },
        "enjoy---have kid": {
         "augkeywords_intermediate": {
          "entities_inpath": [
           "relax watch",
           "front",
           "tv",
           "lot",
           "sit tv",
           "not tend",
           "sit",
           "sit front",
           "have lot"
          ],
          "withentity_paths": [
           "enjoy _motivatedbygoal sit on sofa hasprerequisite sit _isa front _ hasproperty tv capableof sit back _haslastsubevent sit _isa not tend _ hasprerequisite have kids",
           "enjoy _ capableof lot _isa tv usedfor sit hasprerequisite sit back and forth _hassubevent sit at desk motivatedbygoal not tend to",
           "enjoy _motivatedbygoal watch movie hasprerequisite sit _isa back _ atlocation tv usedfor sit definedas not tend _ capableof lot _ hasprerequisite sit at table hassubevent have kid",
           "enjoy _causes viewing video hassubevent sit _isa front _ atlocation tv capableof sit back and relax _haslastsubevent sit _isa not tend _motivatedbygoal have kid",
           "enjoy _ capableof sex hasproperty fun _usedfor tv _isa sit definedas front _ atlocation sit tv _ hasprerequisite sit _hassubevent have kid"
          ],
          "withentity_scores": [
           13.064105546220112,
           7.456050223781405,
           18.069295238078976,
           12.474265068912711,
           20.45662640378006
          ]
         },
         "goldkeywords_intermediate": {
          "entities_inpath": [
           "relax watch",
           "not tend"
          ],
          "withentity_paths": [
           "enjoy motivatedbygoal not tend _isa relax watch _hassubevent have kid",
           "enjoy _motivatedbygoal relax watch isa not tend _ hasprerequisite have kid",
           "enjoy motivatedbygoal not tend _isa relax watch _ hasprerequisite have kid",
           "enjoy _ capableof not tend _isa relax watch _hassubevent have kid",
           "enjoy _ hasprerequisite relax watch _ capableof not tend _motivatedbygoal have kid"
          ],
          "withentity_scores": [
           2.714724028044374,
           2.0783038213450236,
           3.5984635245635546,
           1.6887936878354675,
           5.408895813341352
          ]
         },
         "headtotail_paths": [
          "enjoy _motivatedbygoal jump rope hassubevent have kid",
          "enjoy _motivatedbygoal dance samba hassubevent have kid",
          "enjoy _motivatedbygoal buy products _ causesdesire have kid",
          "enjoy _hassubevent entertain hasprerequisite have kid",
          "enjoy _hassubevent having fun causes have kid"
         ],
         "headtotail_scores": [
          5.022757430506202,
          4.791352609433758,
          7.5233648898557615,
          5.454140932847796,
          4.967414117214396
         ]
        },
        "enjoy---have lot": {
         "augkeywords_intermediate": {
          "entities_inpath": [
           "kid",
           "relax watch",
           "front",
           "tv",
           "sit tv",
           "not tend",
           "sit",
           "sit front",
           "have kid"
          ],
          "withentity_paths": [
           "enjoy _ capableof kid similarto sit back and relax _haslastsubevent watch tv hasprerequisite sit front isa not tend _ hascontext sit hasprerequisite sit front partof tv usedfor have lot",
           "enjoy _ capableof kid _similarto sit _isa sit back and relax _haslastsubevent sit on couch _ hasprerequisite watch tv motivatedbygoal not tend _isa tv capableof sit front _ hasa have lot",
           "enjoy _ capableof child atlocation front _ hasproperty tv usedfor sit hasprerequisite sit back _haslastsubevent have kid hasfirstsubevent sit first _ capableof sit definedas have lot",
           "enjoy _causes watching movie hasprerequisite tv _ hascontext sit _isa front _ atlocation kid capableof sit tv haslastsubevent relax watch _hasfirstsubevent have kid motivatedbygoal have lot",
           "enjoy _motivatedbygoal have kid _hassubevent play games hasprerequisite sit _similarto sit back _ capableof kid atlocation tv usedfor sit back _ hasprerequisite relax watch _hasfirstsubevent have lot"
          ],
          "withentity_scores": [
           17.083945456703997,
           17.17556311693114,
           20.385567311573503,
           15.068710890909642,
           23.91558948427944
          ]
         },
         "goldkeywords_intermediate": {
          "entities_inpath": [
           "kid",
           "relax watch",
           "not tend"
          ],
          "withentity_paths": [
           "enjoy _ capableof kid similarto not tend _isa relax watch _ hasprerequisite have lot",
           "enjoy _ capableof kid similarto not tend _isa relax watch _hassubevent have lot",
           "enjoy _ capableof kid similarto not tend _ hasproperty relax watch _hasfirstsubevent have lot",
           "enjoy _ capableof kid similarto not tend _isa relax watch _hassubevent have lot",
           "enjoy _motivatedbygoal relax watch _ capableof kid isa not tend _ hasprerequisite have lot"
          ],
          "withentity_scores": [
           3.461447749570617,
           3.7861734456632687,
           2.535411359685728,
           3.7861734456632687,
           2.0673566934379948
          ]
         },
         "headtotail_paths": [
          "enjoy _hassubevent going to concert usedfor having good time _causes playing game of chess hasprerequisite chess king usedfor have lot",
          "enjoy _hassubevent enjoy day motivatedbygoal have lot",
          "enjoy _hassubevent enjoy day hasprerequisite have lot",
          "enjoy _hassubevent get _motivatedbygoal play chess hasprerequisite have lot",
          "enjoy _ hasprerequisite live life motivatedbygoal have lot"
         ],
         "headtotail_scores": [
          15.03149659793034,
          4.667232448401805,
          4.033516874583467,
          10.875872835227721,
          4.6312716457068674
         ]
        },
        "enjoy---kid": {
         "augkeywords_intermediate": {
          "entities_inpath": [
           "relax watch",
           "front",
           "tv",
           "have kid",
           "lot",
           "sit tv",
           "not tend",
           "sit",
           "sit front",
           "have",
           "have lot"
          ],
          "withentity_paths": [
           "enjoy _ hasprerequisite have fun motivatedbygoal have kid _usedfor tv isa sit front similarto sit back _haslastsubevent have kid hasprerequisite alot _ hascontext sit front isa sit _similarto kid",
           "enjoy _ capableof most people hasa tv usedfor sit _ hasprerequisite sit back and forth similarto have kid _ causesdesire not tend hascontext sit isa sit front similarto have kid _ capableof kid",
           "enjoy _ capableof tv isa not tend _ hasprerequisite sit at front of mirror motivatedbygoal sit _isa sit back _hasfirstsubevent have kid hasprerequisite sit front _ capableof lot _ atlocation sit similarto kid",
           "enjoy _ capableof tv shows isa not tend _ hasprerequisite sit at front of mirror motivatedbygoal sit _isa front _ hasproperty sit front _ hasprerequisite have kid hasfirstsubevent have kid _motivatedbygoal sit on couch _ capableof kid",
           "enjoy _ capableof tv show _isa sit hasprerequisite not tend _ hascontext front _ atlocation sofa usedfor have kid _motivatedbygoal sit at front _ hasprerequisite have kid hasfirstsubevent sit _ causesdesire kid"
          ],
          "withentity_scores": [
           20.96252976370591,
           19.88068216580926,
           16.46208920980712,
           23.03264200554731,
           26.05401164639655
          ]
         },
         "goldkeywords_intermediate": {
          "entities_inpath": [
           "relax watch",
           "not tend"
          ],
          "withentity_paths": [
           "enjoy _usedfor relaxing watch capableof not tend _ hasproperty kid",
           "enjoy _ capableof not tend _ hascontext relax watch _ capableof kid",
           "enjoy _hassubevent relax watch _ capableof not tend _ capableof kid",
           "enjoy _motivatedbygoal relax watch _ capableof not tend _ hasproperty kid",
           "enjoy _motivatedbygoal relax watch _ capableof not tend _ capableof kid"
          ],
          "withentity_scores": [
           5.06660677481881,
           4.609112012257119,
           3.3488769048782077,
           3.3703173527952535,
           1.520806168259058
          ]
         },
         "headtotail_paths": [
          "enjoy _hassubevent see people play game hasprerequisite watch play _usedfor family room _ atlocation playroom isa room _partof kid",
          "enjoy _ capableof kids _ hasa chase isa kid",
          "enjoy _ desires child _isa kid",
          "enjoy _ capableof kids _ hasa chase isa kid",
          "enjoy _hassubevent go to zoo motivatedbygoal see animals _ desires kid"
         ],
         "headtotail_scores": [
          14.068741110258769,
          3.8750007913516518,
          3.849618674394272,
          3.8750007913516518,
          11.683875416909578
         ]
        },
        "enjoy---lot": {
         "augkeywords_intermediate": {
          "entities_inpath": [
           "kid",
           "relax watch",
           "front",
           "tv",
           "have kid",
           "sit tv",
           "not tend",
           "sit",
           "sit front",
           "have",
           "have lot"
          ],
          "withentity_paths": [
           "enjoy watching",
           "enjoy watching movie",
           "enjoy day",
           "enjoy tv show",
           "enjoy watching movie"
          ],
          "withentity_scores": [
           2.721588361244272,
           1.7833417507204623,
           4.038619229739448,
           3.898488577304529,
           1.7833416361041223
          ]
         },
         "goldkeywords_intermediate": {
          "entities_inpath": [
           "relax watch",
           "not tend"
          ],
          "withentity_paths": [
           "enjoy _hassubevent relax watch _ capableof not tend _ hasproperty lot",
           "enjoy hassubevent relax watch isa not tend _ capableof lot",
           "enjoy hasprerequisite relax watch isa not tend _ capableof lot",
           "enjoy capableof relax watch isa not tend _ capableof lot",
           "enjoy _motivatedbygoal relax watch isa not tend _ capableof lot"
          ],
          "withentity_scores": [
           3.531332324969038,
           2.2383158756163923,
           1.5903285213553384,
           5.757740817195718,
           1.422809235912582
          ]
         },
         "headtotail_paths": [
          "enjoy _hassubevent enjoy company of friends motivatedbygoal to _ notdesires person desires lot",
          "enjoy _motivatedbygoal buy small hassubevent lot",
          "enjoy _hassubevent see people play game motivatedbygoal part of team _ desires person notdesires lot",
          "enjoy _usedfor lot",
          "enjoy _ capableof lot"
         ],
         "headtotail_scores": [
          9.000114452220576,
          5.41238188405889,
          5.582185375336691,
          5.27028496654795,
          1.5215515098207497
         ]
        },
        "front---have": {
         "augkeywords_intermediate": {
          "entities_inpath": [
           "enjoy",
           "kid",
           "relax watch",
           "tv",
           "have kid",
           "lot",
           "sit tv",
           "not tend",
           "sit",
           "sit front",
           "have lot"
          ],
          "withentity_paths": [
           "front _ atlocation tv shows isa not tend",
           "front hascontext tv not hasproperty tend to hassubevent sit back and relax _ hasprerequisite watch tv hasfirstsubevent sit _ capableof kid isa not tend to _motivatedbygoal have kids hasprerequisite sit at front of tv _hasfirstsubevent have",
           "front hascontext tv _isa sit _ hasprerequisite sit on sofa motivatedbygoal have kid when isa in play capableof sit _similarto kidnap _usedfor tv capableof have lot of sex _hasfirstsubevent sit in atlocation not tend _ hasproperty have",
           "front _ hasa tv set",
           "front"
          ],
          "withentity_scores": [
           6.121297247693458,
           25.42545283262719,
           35.54601538385361,
           5.502970931260744,
           1.6660179060452198
          ]
         },
         "goldkeywords_intermediate": {
          "entities_inpath": [
           "relax watch",
           "not tend"
          ],
          "withentity_paths": [
           "front _ hascontext not tend _ capableof relax watch _ hasprerequisite have",
           "front isa not tend _ capableof relax watch _hasfirstsubevent have",
           "front _ atlocation not tend _ capableof relax watch _haslastsubevent have",
           "front _ atlocation not tend _ capableof relax watch _hassubevent have",
           "front _ atlocation not tend _ capableof relax watch _haslastsubevent have"
          ],
          "withentity_scores": [
           4.425636680471768,
           4.645111635230066,
           2.6061536101478495,
           3.480963915093568,
           2.6061536101478495
          ]
         },
         "headtotail_paths": [
          "front _ atlocation booking office usedfor make reservations _ hasprerequisite go to movie motivatedbygoal have",
          "front _ atlocation front door usedfor enter _ hasprerequisite go to store motivatedbygoal have",
          "front _ hasprerequisite wait for motivatedbygoal have",
          "front _ atlocation wedding chapel usedfor have",
          "front _ atlocation seat usedfor have"
         ],
         "headtotail_scores": [
          10.167584546181999,
          5.5199904170907494,
          5.513902569840906,
          8.802208109219139,
          3.9766212335410414
         ]
        },
        "front---have kid": {
         "augkeywords_intermediate": {
          "entities_inpath": [
           "enjoy",
           "relax watch",
           "tv",
           "lot",
           "sit tv",
           "not tend",
           "sit",
           "sit front",
           "have lot"
          ],
          "withentity_paths": [
           "front _ hasproperty tv usedfor sit _hassubevent sit in _isa not tend _ hasprerequisite sit at computer motivatedbygoal enjoy _haslastsubevent sit at dinner hasfirstsubevent have kid",
           "front _ hasproperty tv set capableof sit hasprerequisite sit _similarto sit back _haslastsubevent watch film motivatedbygoal enjoy _ capableof not tend _ hasprerequisite have kid",
           "front _ hasproperty tv usedfor sit motivatedbygoal relax _haslastsubevent watch tv hassubevent watch later hasprerequisite not tend to",
           "front _ hasproperty tv usedfor watch _isa sit hasprerequisite not tend to",
           "front _ hasproperty tv isa not tend _ hasprerequisite sit at desk haslastsubevent enjoy _motivatedbygoal sit at table hasfirstsubevent relax watch _hassubevent sit _isa lot _motivatedbygoal have kid"
          ],
          "withentity_scores": [
           17.11637746101451,
           17.207622100866192,
           19.864788909160808,
           6.798186863583864,
           12.260737546493795
          ]
         },
         "goldkeywords_intermediate": {
          "entities_inpath": [
           "relax watch",
           "not tend"
          ],
          "withentity_paths": [
           "front _ atlocation not tend _ hascontext relax watch _haslastsubevent have kid",
           "front _ hasproperty not tend _ capableof relax watch _haslastsubevent have kid",
           "front _ atlocation not tend _ capableof relax watch _hassubevent have kid",
           "front _ hascontext not tend _isa relax watch _hassubevent have kid",
           "front _ hasproperty not tend _ hasprerequisite relax watch _hassubevent have kid"
          ],
          "withentity_scores": [
           3.6739895903381665,
           4.932304706887717,
           3.229310082704023,
           2.126620601967416,
           3.9791279145892977
          ]
         },
         "headtotail_paths": [
          "front _ hasprerequisite go to film hassubevent have kid",
          "front _ hasprerequisite stand in line hassubevent have kid",
          "front hascontext construction causesdesire cross street motivatedbygoal have kid",
          "front _ hasprerequisite go to mall hassubevent have kid",
          "front _ atlocation child capableof tell love _usedfor card _isa wedding card usedfor have kid"
         ],
         "headtotail_scores": [
          5.641920029732183,
          4.729150678118124,
          8.947687797211074,
          6.574667743801142,
          11.090287109884521
         ]
        },
        "front---have lot": {
         "augkeywords_intermediate": {
          "entities_inpath": [
           "enjoy",
           "kid",
           "relax watch",
           "tv",
           "sit tv",
           "not tend",
           "sit",
           "sit front",
           "have kid"
          ],
          "withentity_paths": [
           "front _ hasa tv usedfor sit in _ capableof kid similarto envious _motivatedbygoal entertain hasprerequisite sit on _isa not tend _ hasproperty sit hasfirstsubevent have lot",
           "front hascontext tv usedfor sit hasprerequisite sit back and relax _haslastsubevent watch movie motivatedbygoal enjoy _isa kid capableof sit front _ hasprerequisite have kid motivatedbygoal have lot",
           "front _ atlocation tv capableof sit back and relax _haslastsubevent sit on couch hassubevent enjoy _motivatedbygoal view film at home hasprerequisite not tend _isa kid capableof have lot",
           "front _ atlocation tv _isa sit hasprerequisite sit hasfirstsubevent relax _haslastsubevent have kid motivatedbygoal not tend to",
           "front _ atlocation tv capableof sit _hassubevent sit back and relax _haslastsubevent have kid motivatedbygoal relax watch _ capableof kid similarto not tend _ hasprerequisite sit at rest motivatedbygoal have lot"
          ],
          "withentity_scores": [
           20.07516708699197,
           13.16769834794386,
           9.802535123666006,
           12.735482440193383,
           13.91866202459362
          ]
         },
         "goldkeywords_intermediate": {
          "entities_inpath": [
           "relax watch",
           "not tend"
          ],
          "withentity_paths": [
           "front _ hasproperty not tend _ capableof relax watch _ hasprerequisite have lot",
           "front _ atlocation not tend _ capableof relax watch _haslastsubevent have lot",
           "front _ hascontext not tend _isa relax watch _hasfirstsubevent have lot",
           "front _ hasproperty not tend _isa relax watch _ capableof have lot",
           "front _ hasproperty not tend _ capableof relax watch _hasfirstsubevent have lot"
          ],
          "withentity_scores": [
           4.441234212896117,
           4.489329116564969,
           2.871754868739842,
           4.08560625028204,
           4.806470549674733
          ]
         },
         "headtotail_paths": [
          "front hascontext sports hasproperty good for health _motivatedbygoal play sports _ hasprerequisite play sports _ causesdesire have lot",
          "front _ atlocation audience capableof wonder what happened _hasfirstsubevent see exciting story motivatedbygoal have lot",
          "front _ atlocation front door usedfor have lot",
          "front _ hasprerequisite wait in line motivatedbygoal have lot",
          "front _ atlocation door with lock usedfor safety _motivatedbygoal skateboard hasprerequisite have lot"
         ],
         "headtotail_scores": [
          11.977860146442417,
          12.81311307408134,
          3.8243760093827426,
          6.267927305121742,
          11.54243171549418
         ]
        },
        "front---kid": {
         "augkeywords_intermediate": {
          "entities_inpath": [
           "enjoy",
           "relax watch",
           "tv",
           "have kid",
           "lot",
           "sit tv",
           "not tend",
           "sit",
           "sit front",
           "have",
           "have lot"
          ],
          "withentity_paths": [
           "front _ hasproperty tv set _isa sit haslastsubevent have kid",
           "front hascontext television hasproperty informative _motivatedbygoal have kids haslastsubevent sit in",
           "front hascontext tv isa not tend to",
           "front _ hasprerequisite sitting down hassubevent sit hasprerequisite not tend to",
           "front _ atlocation tv _ hasprerequisite watching tv show hassubevent sit hasprerequisite sit back and relax _haslastsubevent have kid motivatedbygoal not tend to"
          ],
          "withentity_scores": [
           8.73842457368499,
           16.449089398863126,
           4.585496792713775,
           12.181786713123284,
           10.798546637660676
          ]
         },
         "goldkeywords_intermediate": {
          "entities_inpath": [
           "relax watch",
           "not tend"
          ],
          "withentity_paths": [
           "front _ hascontext not tend _isa relax watch _ capableof kid",
           "front _ hascontext not tend _ capableof relax watch _ capableof kid",
           "front _ atlocation not tend _ capableof relax watch _ capableof kid",
           "front _ hasproperty not tend _ capableof relax watch _ capableof kid",
           "front _ atlocation not tend _ capableof relax watch _ capableof kid"
          ],
          "withentity_scores": [
           1.3903891978714131,
           2.041944171365684,
           1.4220080362842147,
           2.339017613832866,
           1.4220080362842147
          ]
         },
         "headtotail_paths": [
          "front _ atlocation kid",
          "front _ atlocation child _isa kid",
          "front _ atlocation seat usedfor kid",
          "front _ atlocation child _isa kid",
          "front _ atlocation kid"
         ],
         "headtotail_scores": [
          1.7027486632871451,
          1.5466425836832065,
          6.232582460068565,
          1.5466425836832065,
          1.7027486632871451
         ]
        },
        "front---lot": {
         "augkeywords_intermediate": {
          "entities_inpath": [
           "enjoy",
           "kid",
           "relax watch",
           "tv",
           "have kid",
           "sit tv",
           "not tend",
           "sit",
           "sit front",
           "have",
           "have lot"
          ],
          "withentity_paths": [
           "front hascontext tv usedfor watch movie hasprerequisite sit at couch _hasfirstsubevent have kid hassubevent sit hasprerequisite have to do with _ capableof kid similarto sit back and forth isa not tend _ hasproperty lot",
           "front hascontext tv usedfor have kids hasprerequisite sit hasprerequisite sit back and forth _hassubevent have kids haslastsubevent sit on couch isa not tend _ hasproperty sit hasfirstsubevent lot",
           "front _ hasprerequisite sit on chair motivatedbygoal relax",
           "front _ hasproperty tv shows _isa sit back and relax _hassubevent have kid hasprerequisite have kid _usedfor tv capableof sit in front _ hasprerequisite have kid hasfirstsubevent relax watch _ capableof lot",
           "front"
          ],
          "withentity_scores": [
           21.200350486337946,
           19.446560913150403,
           11.310030811600392,
           28.375806080451184,
           1.429684410818866
          ]
         },
         "goldkeywords_intermediate": {
          "entities_inpath": [
           "relax watch",
           "not tend"
          ],
          "withentity_paths": [
           "front _ atlocation not tend _ capableof relax watch _ capableof lot",
           "front _ hascontext not tend _ hasproperty relax watch _ capableof lot",
           "front _ hascontext not tend _isa relax watch _ capableof lot",
           "front _ atlocation not tend _ capableof relax watch _ capableof lot",
           "front _ hascontext not tend _isa relax watch _ capableof lot"
          ],
          "withentity_scores": [
           1.1602926737712447,
           4.758204875453014,
           1.6807793136813678,
           1.1602926737712447,
           1.6807793136813678
          ]
         },
         "headtotail_paths": [
          "front _ atlocation space hasproperty infinite _isa lot",
          "front _ atlocation lot",
          "front _ atlocation lot",
          "front _ atlocation piece of land isa lot",
          "front _ atlocation fortune _ hasa lot"
         ],
         "headtotail_scores": [
          4.22263810321689,
          1.616564498292347,
          1.616564498292347,
          8.12937996338519,
          5.79532946695502
         ]
        },
        "sit front---have": {
         "augkeywords_intermediate": {
          "entities_inpath": [
           "enjoy",
           "kid",
           "relax watch",
           "tv",
           "lot",
           "sit tv",
           "not tend",
           "have kid",
           "have lot"
          ],
          "withentity_paths": [
           "sit front _ capableof kid isa tv _ hasprerequisite watching tv show hassubevent relax _haslastsubevent have kid motivatedbygoal not tend to",
           "sit front _ capableof kid similarto envious _ hasproperty most people not capableof enjoy _motivatedbygoal sit tv hassubevent relax watch _ capableof tv _ hascontext have",
           "sit front _hassubevent watch tv hasprerequisite sit at desk _haslastsubevent have kid motivatedbygoal relax _haslastsubevent watch tv _ capableof kid similarto not tend _ hascontext lot _ hasa have",
           "sit front _hasfirstsubevent watch tv hasprerequisite sit at desk motivatedbygoal relax _hasfirstsubevent have kid _ capableof kid isa tv _ hascontext not tend _ capableof have",
           "sit front hascontext television usedfor watch motivatedbygoal have kid _ capableof kid isa tv _ hasprerequisite relax watch _haslastsubevent have kid motivatedbygoal have"
          ],
          "withentity_scores": [
           7.0343188810331005,
           11.815730567370604,
           11.409884396607632,
           13.151261842216599,
           21.26424420727888
          ]
         },
         "goldkeywords_intermediate": {
          "entities_inpath": [
           "relax watch",
           "not tend"
          ],
          "withentity_paths": [
           "sit front _ hasprerequisite relax watch isa not tend _ capableof have",
           "sit front _ hasprerequisite relax watch isa not tend _ capableof have",
           "sit front _similarto not tend _ hasproperty not tend _ hasprerequisite have",
           "sit front similarto not tend _isa relax watch _ hasprerequisite have",
           "sit front _hassubevent relax watch isa not tend _ hasprerequisite have"
          ],
          "withentity_scores": [
           1.1866904887070315,
           1.1866904014795165,
           2.8039757140716195,
           4.5240566622257505,
           3.4939239596709095
          ]
         },
         "headtotail_paths": [
          "sit front _ hasprerequisite wait on line motivatedbygoal have",
          "sit front _hassubevent play piano motivatedbygoal have",
          "sit front _hasfirstsubevent stand in queue motivatedbygoal have",
          "sit front _ hasprerequisite stand in queue motivatedbygoal have",
          "sit front _hasfirstsubevent read magazine motivatedbygoal have"
         ],
         "headtotail_scores": [
          2.754002355420371,
          4.8932352269884465,
          2.6070993002715306,
          2.88403298823515,
          5.878747035303039
         ]
        },
        "sit front---have kid": {
         "augkeywords_intermediate": {
          "entities_inpath": [
           "enjoy",
           "relax watch",
           "lot",
           "tv",
           "sit tv",
           "not tend",
           "have lot"
          ],
          "withentity_paths": [
           "sit front _ hasprerequisite sit tv haslastsubevent enjoy _ capableof tv _ hascontext not tend _isa lot _ atlocation not tend _motivatedbygoal have kid",
           "sit front _ hasprerequisite sit tv motivatedbygoal watch _isa tv hasproperty not tend _ capableof lot _motivatedbygoal enjoy _causes have kid",
           "sit front hascontext tv usedfor relax _haslastsubevent sit tv motivatedbygoal not tend _isa lot capableof enjoy _ hasprerequisite have kid",
           "sit front _ hasprerequisite watch tv hassubevent relax _haslastsubevent sit tv motivatedbygoal not tend _isa lot _ hasproperty not tend _ hasprerequisite have kid",
           "sit front hascontext tv capableof sit tv hasprerequisite not tend isa lot _ hasproperty not tend _motivatedbygoal enjoy film hassubevent relax watch _hasfirstsubevent have kid"
          ],
          "withentity_scores": [
           9.992529626269928,
           9.709939512675128,
           8.112934025398808,
           5.382404805050355,
           7.687765889869583
          ]
         },
         "goldkeywords_intermediate": {
          "entities_inpath": [
           "relax watch",
           "not tend"
          ],
          "withentity_paths": [
           "sit front _ hasprerequisite relax watch motivatedbygoal not tend to _motivatedbygoal have kid",
           "sit front _similarto not tend _ hascontext relax watch _hassubevent have kid",
           "sit front _ hasprerequisite relax watch _ capableof not tend _motivatedbygoal have kid",
           "sit front similarto not tend _ hasproperty not tend _ hasprerequisite have kid",
           "sit front _similarto not tend _isa relax watch _hassubevent have kid"
          ],
          "withentity_scores": [
           6.234601067212397,
           3.183590261442847,
           3.1846995113291103,
           3.6846028588523607,
           2.4844627176212684
          ]
         },
         "headtotail_paths": [
          "sit front _hasfirstsubevent go to movie hassubevent have kid",
          "sit front _hasfirstsubevent see movie hassubevent have kid",
          "sit front _hasfirstsubevent read to children hassubevent have kid",
          "sit front _ hasprerequisite read to children hassubevent have kid",
          "sit front _hasfirstsubevent go see play hassubevent have kid"
         ],
         "headtotail_scores": [
          4.4012625090534785,
          3.470372154946173,
          3.4131164335910817,
          1.9231340802363386,
          4.330409299441641
         ]
        },
        "sit front---have lot": {
         "augkeywords_intermediate": {
          "entities_inpath": [
           "enjoy",
           "kid",
           "relax watch",
           "tv",
           "sit tv",
           "not tend",
           "have kid"
          ],
          "withentity_paths": [
           "sit front _ capableof kid similarto envious _motivatedbygoal enjoy film hasfirstsubevent sit tv hassubevent relax watch _ capableof tv usedfor have lot",
           "sit front hascontext television _ atlocation kid capableof sit tv hasprerequisite relax watch _haslastsubevent have kid motivatedbygoal not tend isa have lot",
           "sit front _hasfirstsubevent watch tv hasprerequisite sit tv _hassubevent relax watch _ capableof kid isa not tend _ hascontext tv usedfor have lot",
           "sit front _ hasprerequisite sit tv hassubevent relax watch _ capableof kid similarto envious _motivatedbygoal enjoy _usedfor tv isa have lot",
           "sit front _ capableof kid isa not tend _ capableof tv _ hasprerequisite watching tv hassubevent relax watch _hasfirstsubevent have kid motivatedbygoal have lot"
          ],
          "withentity_scores": [
           6.136708530318307,
           11.662951624466864,
           9.945337348446614,
           7.176111507128056,
           8.30539395852654
          ]
         },
         "goldkeywords_intermediate": {
          "entities_inpath": [
           "relax watch",
           "not tend"
          ],
          "withentity_paths": [
           "sit front _ hasprerequisite relax watch isa not tend _ capableof have lot",
           "sit front similarto not tend _ hasproperty not tend _ capableof have lot",
           "sit front _similarto not tend _ capableof not tend _ hasprerequisite have lot",
           "sit front _similarto not tend _isa relax watch _ capableof have lot",
           "sit front _ hasprerequisite relax watch isa not tend _ capableof have lot"
          ],
          "withentity_scores": [
           1.1620784024393713,
           4.021259422759723,
           4.523313681387268,
           2.9998023219959498,
           1.1620784024393713
          ]
         },
         "headtotail_paths": [
          "sit front _hasfirstsubevent stand in line motivatedbygoal have lot",
          "sit front _ hasprerequisite wait on line motivatedbygoal have lot",
          "sit front _ hasprerequisite wait on line motivatedbygoal have lot",
          "sit front _ hasprerequisite wait for hassubevent read newspaper motivatedbygoal have lot",
          "sit front _hassubevent wait for motivatedbygoal have lot"
         ],
         "headtotail_scores": [
          3.3008018247746334,
          2.405293654997748,
          2.405293654997748,
          6.842172835389509,
          2.934553706171013
         ]
        },
        "sit front---kid": {
         "augkeywords_intermediate": {
          "entities_inpath": [
           "enjoy",
           "relax watch",
           "tv",
           "lot",
           "sit tv",
           "not tend",
           "have",
           "have kid",
           "have lot"
          ],
          "withentity_paths": [
           "sit front _ hasprerequisite sit on sofa hassubevent enjoy _motivatedbygoal have kid hasfirstsubevent have lot _ capableof tv not hasproperty tend _isa not tend _ hasprerequisite have kid hasfirstsubevent have kid",
           "sit front hascontext tv usedfor have fun hasprerequisite not tend to _hasfirstsubevent sit tv hassubevent relax watch _ capableof lot _similarto enjoy _ capableof have kid _ hasprerequisite play with _usedfor kid",
           "sit front _ hasprerequisite watch tv hassubevent relax _motivatedbygoal have kid hasprerequisite have lot _ capableof lot _ hasproperty not tend hascontext tv usedfor have kid _ capableof kid",
           "sit front _ hasprerequisite watch tv hasfirstsubevent sit at desk _haslastsubevent have party motivatedbygoal relax _haslastsubevent have children _usedfor tv _ hascontext not tend _ capableof lot _ desires kid",
           "sit front _hassubevent watch tv hasprerequisite have lot _motivatedbygoal enjoy film haslastsubevent relax _ capableof tv isa not tend _ hascontext lot _ atlocation kid"
          ],
          "withentity_scores": [
           22.24119838357476,
           15.182204193570161,
           14.093771915248867,
           16.72051706921607,
           18.02714124855264
          ]
         },
         "goldkeywords_intermediate": {
          "entities_inpath": [
           "relax watch",
           "not tend"
          ],
          "withentity_paths": [
           "sit front _hasfirstsubevent relax watch _ capableof not tend _ capableof kid",
           "sit front _similarto not tend _ hasproperty not tend _ capableof kid",
           "sit front _ hasprerequisite relax watch _ capableof not tend _ capableof kid",
           "sit front _ hasprerequisite relax watch _ capableof not tend _isa kid",
           "sit front _ hasprerequisite relax watch _hassubevent not tend _ capableof kid"
          ],
          "withentity_scores": [
           2.071284536204619,
           3.7449413632012356,
           1.405988328478885,
           2.1806989793516127,
           2.997680994386568
          ]
         },
         "headtotail_paths": [
          "sit front _ hasprerequisite wait on line motivatedbygoal get to front _causes getting in line hassubevent walk _ capableof kid",
          "sit front _hasfirstsubevent see people play game hasprerequisite go to theatre _hasfirstsubevent go see play motivatedbygoal have fun _ desires kid",
          "sit front _ hasprerequisite read to children motivatedbygoal learn quickly _ capableof baby createdby sex _ desires kid",
          "sit front _hasfirstsubevent read to children motivatedbygoal learn quickly _ capableof kid",
          "sit front _ hasprerequisite read to children hassubevent learn to read _ capableof kid"
         ],
         "headtotail_scores": [
          3.852699339420329,
          16.40056758750004,
          5.440170978316398,
          6.767841684935043,
          5.794534262541795
         ]
        },
        "sit front---lot": {
         "augkeywords_intermediate": {
          "entities_inpath": [
           "enjoy",
           "kid",
           "relax watch",
           "tv",
           "sit tv",
           "not tend",
           "have",
           "have kid",
           "have lot"
          ],
          "withentity_paths": [
           "sit front _ capableof kid similarto have kid _motivatedbygoal have tv hasprerequisite sit tv haslastsubevent relax watch _hassubevent watch tv _ capableof tv _ hascontext not tend _ hasproperty lot",
           "sit front _ capableof kid desires have _ hasprerequisite enjoy _motivatedbygoal watch tv show haslastsubevent sit on _isa tv hasproperty fun _ hasa not tend _ hascontext lot",
           "sit front _hasfirstsubevent watch tv hasprerequisite have kids _motivatedbygoal have kid _ capableof kid similarto envious _ hasproperty tv usedfor relax watch _hassubevent have kids _ causesdesire lot",
           "sit front _hassubevent have kid _ hasprerequisite sit tv motivatedbygoal have _ desires kid capableof enjoy _motivatedbygoal watch tv hasprerequisite enjoy _usedfor tv _ hascontext lot",
           "sit front _hasfirstsubevent watch tv motivatedbygoal have kid _ capableof kid similarto have _ hasprerequisite enjoy _causes tv usedfor sit tv _ capableof not tend _ hascontext lot"
          ],
          "withentity_scores": [
           15.042069399360933,
           18.688062049282752,
           14.239826496771453,
           23.708310894951065,
           15.701303228111385
          ]
         },
         "goldkeywords_intermediate": {
          "entities_inpath": [
           "relax watch",
           "not tend"
          ],
          "withentity_paths": [
           "sit front _ hasprerequisite relax watch _ capableof not tend _ hascontext lot",
           "sit front _similarto relax watch _ capableof not tend _ hasproperty lot",
           "sit front _hasfirstsubevent relax watch isa not tend _ capableof lot",
           "sit front _ hasprerequisite relax watch _ capableof not tend _ hasproperty lot",
           "sit front _ hasprerequisite relax watch _ capableof not tend _ hascontext lot"
          ],
          "withentity_scores": [
           2.7202174149827583,
           4.070708060635958,
           2.54057541393082,
           1.9997812002982536,
           2.7202174149827583
          ]
         },
         "headtotail_paths": [
          "sit front _ hasprerequisite read to children motivatedbygoal amuse _usedfor toy _isa little girl capableof lot",
          "sit front _ hasprerequisite wait in line _ causesdesire buying ticket _usedfor ticket booth atlocation lot",
          "sit front _ hasprerequisite wait in line hassubevent long wait _causes buying hamburger usedfor eat lot _ capableof lot",
          "sit front _ hasprerequisite stand in queue motivatedbygoal more _ hascontext lot",
          "sit front _hassubevent play piano motivatedbygoal good at _ hasproperty everyone hasa lot"
         ],
         "headtotail_scores": [
          11.250053208099004,
          6.681483194515723,
          14.336363743575834,
          5.428338680323206,
          9.607036143052278
         ]
        },
        "sit tv---have": {
         "augkeywords_intermediate": {
          "entities_inpath": [
           "enjoy",
           "kid",
           "relax watch",
           "front",
           "have kid",
           "lot",
           "not tend",
           "sit front",
           "have lot"
          ],
          "withentity_paths": [
           "sit tv hasprerequisite seated _ receivesaction kid capableof enjoy _motivatedbygoal have kid hasfirstsubevent relax watch _usedfor front yard _ atlocation not tend _ hascontext have",
           "sit tv capableof seat child _ capableof kid similarto front _ atlocation lot _ hasprerequisite have kid motivatedbygoal enjoy _similarto relax watch _haslastsubevent have",
           "sit tv hasprerequisite not tend _isa lot _ hasproperty not tend _ capableof kid similarto have kid motivatedbygoal enjoy _similarto sit front _ capableof kid isa have",
           "sit tv hasprerequisite sit front _ capableof kid similarto envious _ hasproperty everyone desires relax hasfirstsubevent have lot _ hasprerequisite have kids _motivatedbygoal sit front isa not tend _ capableof have",
           "sit tv hasprerequisite sit back and relax _haslastsubevent have kid motivatedbygoal not tend _isa lot _ atlocation kid capableof enjoy _ causesdesire not tend _ hascontext back _ hasa have"
          ],
          "withentity_scores": [
           11.063321878048342,
           11.320730318069227,
           19.128724504022305,
           15.887924396533306,
           11.528809811218327
          ]
         },
         "goldkeywords_intermediate": {
          "entities_inpath": [
           "relax watch",
           "not tend"
          ],
          "withentity_paths": [
           "sit tv haslastsubevent relax watch _ capableof not tend _ hasprerequisite have",
           "sit tv hassubevent relax watch isa not tend _ hasprerequisite have",
           "sit tv hassubevent relax watch isa not tend _ hasprerequisite have",
           "sit tv hassubevent relax watch _ capableof not tend _ hasprerequisite have",
           "sit tv hasprerequisite relax watch isa not tend _ capableof have"
          ],
          "withentity_scores": [
           4.174303197100579,
           0.901882547002181,
           0.901882547002181,
           1.6020659275290106,
           2.9431344470373757
          ]
         },
         "headtotail_paths": [
          "sit tv _hassubevent watching tv show causes have",
          "sit tv _hassubevent watching tv causes fall asleep _haslastsubevent lucid dream motivatedbygoal have",
          "sit tv _hassubevent watch tv hasprerequisite have",
          "sit tv _hassubevent watching tv show causes contentment _motivatedbygoal buy christmas presents hasprerequisite have",
          "sit tv _hassubevent watch tv _ hasprerequisite see favorite show motivatedbygoal have"
         ],
         "headtotail_scores": [
          4.004607461462717,
          9.686803288497313,
          3.6397297334946646,
          13.621495822852145,
          5.12091930738363
         ]
        },
        "sit tv---have kid": {
         "augkeywords_intermediate": {
          "entities_inpath": [
           "enjoy",
           "relax watch",
           "front",
           "lot",
           "not tend",
           "sit front",
           "have lot"
          ],
          "withentity_paths": [
           "sit tv hassubevent relax hasfirstsubevent sit front _ capableof lot _similarto ennui isa not tend _ hasprerequisite have lot _ desires sue _similarto have kid",
           "sit tv hasprerequisite not tend _isa lot _ hascontext front _ atlocation front _ hasprerequisite relax watch _haslastsubevent enjoy _motivatedbygoal have kid",
           "sit tv haslastsubevent sit front _ capableof lot _ hascontext ennui isa enjoy motivatedbygoal not tend _ hasprerequisite sit front _ capableof not tend _motivatedbygoal have kid",
           "sit tv _usedfor front _ hasproperty lot capableof enjoy _isa not tend _ hasprerequisite sit front _ capableof not tend _motivatedbygoal relax watch _hassubevent have kid",
           "sit tv hasprerequisite sit front _ capableof lot _ hascontext ennui isa enjoy _hassubevent relax watch _ capableof not tend _motivatedbygoal have kid"
          ],
          "withentity_scores": [
           8.866398078741122,
           11.228816165344378,
           9.460523795299185,
           13.737368214106795,
           8.333081278906139
          ]
         },
         "goldkeywords_intermediate": {
          "entities_inpath": [
           "relax watch",
           "not tend"
          ],
          "withentity_paths": [
           "sit tv haslastsubevent relax watch isa not tend _ hasprerequisite have kid",
           "sit tv hassubevent relax watch isa not tend _ hasprerequisite have kid",
           "sit tv hassubevent relax watch isa not tend _ hasprerequisite have kid",
           "sit tv hassubevent relax watch isa not tend _ hasprerequisite have kid",
           "sit tv motivatedbygoal not tend _isa relax watch _hassubevent have kid"
          ],
          "withentity_scores": [
           2.2330015816616857,
           1.0850991849071758,
           1.0850991849071758,
           1.0850991849071758,
           2.3910421162960596
          ]
         },
         "headtotail_paths": [
          "sit tv _ hasprerequisite watch tv show hassubevent have kid",
          "sit tv _hassubevent have friends over motivatedbygoal have kid",
          "sit tv _hassubevent watching television causes have kid",
          "sit tv _ hasprerequisite watch television hassubevent have kid",
          "sit tv _hassubevent viewing film at home causes have kid"
         ],
         "headtotail_scores": [
          2.7242048465479436,
          4.25715707738411,
          3.968564339688603,
          5.066060718955187,
          3.3439481465856025
         ]
        },
        "sit tv---have lot": {
         "augkeywords_intermediate": {
          "entities_inpath": [
           "enjoy",
           "kid",
           "relax watch",
           "front",
           "not tend",
           "sit front",
           "have kid"
          ],
          "withentity_paths": [
           "sit tv hasprerequisite sit front _similarto back _ atlocation kid capableof enjoy _motivatedbygoal relax watch _hassubevent have kid hasprerequisite have lot",
           "sit tv hasprerequisite sit front _ capableof kid similarto envious _motivatedbygoal enjoy film hasfirstsubevent relax watch _usedfor front _ atlocation have lot",
           "sit tv hassubevent sit front _ capableof kid _similarto envious _ hasproperty find interesting _motivatedbygoal have kid _ hasprerequisite relax watch _hasfirstsubevent have lot",
           "sit tv _usedfor front _ atlocation seat _isa not tend _ capableof kids desires relax hasfirstsubevent enjoy _motivatedbygoal have kid hasprerequisite have lot",
           "sit tv motivatedbygoal enjoy _motivatedbygoal relax watch _ capableof kid _isa front _ atlocation not tend _ hascontext sit front _ hasprerequisite have kid hasfirstsubevent have lot"
          ],
          "withentity_scores": [
           8.164004014068126,
           8.352424241336013,
           17.401995409852116,
           8.915662823418621,
           10.504512502061022
          ]
         },
         "goldkeywords_intermediate": {
          "entities_inpath": [
           "relax watch",
           "not tend"
          ],
          "withentity_paths": [
           "sit tv hassubevent relax watch isa not tend _ capableof have lot",
           "sit tv capableof relax watch isa not tend _ hasprerequisite have lot",
           "sit tv haslastsubevent relax watch isa not tend _ capableof have lot",
           "sit tv hassubevent relax watch isa not tend _ capableof have lot",
           "sit tv motivatedbygoal not tend _isa relax watch _ capableof have lot"
          ],
          "withentity_scores": [
           1.086920476320973,
           2.3017517799316884,
           1.8246522441152753,
           1.086920476320973,
           3.0790358621524834
          ]
         },
         "headtotail_paths": [
          "sit tv _ hasprerequisite watch tv show motivatedbygoal have lot",
          "sit tv _hassubevent go to performance hasprerequisite get dressed _haslastsubevent play sports motivatedbygoal have lot",
          "sit tv _hassubevent go to mall motivatedbygoal have lot",
          "sit tv _hassubevent playing games usedfor children capableof play soccer motivatedbygoal have lot",
          "sit tv _hassubevent watch tv hasprerequisite buy tv _hasfirstsubevent go to mall motivatedbygoal have lot"
         ],
         "headtotail_scores": [
          3.278415467541684,
          8.442809364552033,
          3.487032616970534,
          11.648397283729377,
          8.479575276623386
         ]
        },
        "sit tv---kid": {
         "augkeywords_intermediate": {
          "entities_inpath": [
           "enjoy",
           "relax watch",
           "front",
           "have kid",
           "lot",
           "not tend",
           "sit front",
           "have",
           "have lot"
          ],
          "withentity_paths": [
           "sit tv hasprerequisite have kid _motivatedbygoal enjoy film hasprerequisite sit front _similarto back _ hasa lot _ hascontext enjoy _ capableof have kid _hassubevent have car accident _ causesdesire kid",
           "sit tv hasprerequisite find to sit on _ hasprerequisite have kid _motivatedbygoal enjoy film hasfirstsubevent relax _ causesdesire not tend _isa lot _ hasproperty envious child capableof sit front _ hasa kid",
           "sit tv hasprerequisite have to hasa lot partof not tend _ hascontext front _ atlocation enjoy _hassubevent have kid motivatedbygoal relax watch _hasfirstsubevent have baby _ capableof kid",
           "sit tv capableof enjoy _motivatedbygoal have kid hasprerequisite have to hasa lot _isa not tend _ hascontext front _ atlocation enjoy _hassubevent have kids _ causesdesire kid",
           "sit tv hasprerequisite have _ capableof not tend _ hascontext back _isa lot _ atlocation have kid hasfirstsubevent enjoy _motivatedbygoal relax watch _hassubevent have kids _ capableof kid"
          ],
          "withentity_scores": [
           17.738444631414026,
           14.548645693396002,
           14.679983470334529,
           13.456002181739825,
           21.047575209903975
          ]
         },
         "goldkeywords_intermediate": {
          "entities_inpath": [
           "relax watch",
           "not tend"
          ],
          "withentity_paths": [
           "sit tv hassubevent relax watch _ capableof not tend _ capableof kid",
           "sit tv motivatedbygoal not tend _isa relax watch _ capableof kid",
           "sit tv hassubevent relax watch _ capableof not tend _ hasproperty kid",
           "sit tv hassubevent relax watch _ capableof not tend _isa kid",
           "sit tv hassubevent relax watch _ capableof not tend _ capableof kid"
          ],
          "withentity_scores": [
           0.8084079406095469,
           2.2064970955004055,
           2.904078670256677,
           2.1926364137045695,
           0.8084079406095469
          ]
         },
         "headtotail_paths": [
          "sit tv _hassubevent watch tv _ capableof kid",
          "sit tv _hassubevent go to restaurant hasprerequisite get out of bed _haslastsubevent awake _ notdesires kid",
          "sit tv _hassubevent watching tv show causes sleep _ capableof kid",
          "sit tv _hassubevent watching tv show hasprerequisite cable _ atlocation cord usedfor tie knot _ capableof kid",
          "sit tv _hassubevent eating breakfast in bed hasprerequisite mom capableof tie shoes _ desires kids _ hasa kid"
         ],
         "headtotail_scores": [
          2.9834228897285713,
          14.429775327696001,
          6.6261052528812705,
          11.409488061455171,
          14.121186371349909
         ]
        },
        "sit tv---lot": {
         "augkeywords_intermediate": {
          "entities_inpath": [
           "enjoy",
           "kid",
           "relax watch",
           "front",
           "have kid",
           "not tend",
           "sit front",
           "have",
           "have lot"
          ],
          "withentity_paths": [
           "sit tv hasprerequisite have kids _motivatedbygoal have children hasfirstsubevent enjoy _isa find enjoyable hasproperty relaxing _ capableof kid similarto front _ atlocation not tend _ hascontext lot",
           "sit tv hassubevent enjoy hasfirstsubevent have kid _ capableof kid similarto envious _ hasprerequisite have kid motivatedbygoal relax watch _isa front _ atlocation not tend _ hasproperty lot",
           "sit tv motivatedbygoal have fun hasprerequisite sit front _ capableof kid similarto envious _ hasproperty have _isa not tend _ hascontext back _ hasa lot",
           "sit tv haslastsubevent have kids _motivatedbygoal have sex _ desires kid capableof sit front _ hasprerequisite enjoy _usedfor show _isa front _ hasproperty lot",
           "sit tv hasprerequisite sit front _ capableof kid similarto envious _ hasproperty enjoy _motivatedbygoal have kid hasprerequisite have _ capableof not tend _isa back _ atlocation lot"
          ],
          "withentity_scores": [
           21.892238997532164,
           13.160557315950982,
           16.964028738469658,
           21.06880236136616,
           11.989870825729321
          ]
         },
         "goldkeywords_intermediate": {
          "entities_inpath": [
           "relax watch",
           "not tend"
          ],
          "withentity_paths": [
           "sit tv hassubevent relax watch isa not tend _ capableof lot",
           "sit tv hassubevent relax watch _ capableof not tend _ hasproperty lot",
           "sit tv hassubevent relax watch isa not tend _ capableof lot",
           "sit tv hassubevent relax watch _ capableof not tend _isa lot",
           "sit tv motivatedbygoal not tend _isa relax watch _ capableof lot"
          ],
          "withentity_scores": [
           1.0643526450676404,
           1.383781355797103,
           1.0643526450676404,
           3.62848205677331,
           3.0543411801871048
          ]
         },
         "headtotail_paths": [
          "sit tv _ hasprerequisite watch evening news hassubevent change channel _ capableof channel isa lot",
          "sit tv _ hasprerequisite watch television show _ causesdesire interest _isa lot",
          "sit tv _hassubevent watching tv _usedfor family room atlocation large _ hasproperty lot",
          "sit tv _hassubevent watching tv hasprerequisite lot",
          "sit tv _hassubevent viewing film at home causes privacy _usedfor room with many people _isa lot"
         ],
         "headtotail_scores": [
          11.036768530836316,
          11.426964757178657,
          6.6389005450793155,
          3.5442721213227264,
          12.274986402360472
         ]
        },
        "sit---have": {
         "augkeywords_intermediate": {
          "entities_inpath": [
           "enjoy",
           "kid",
           "relax watch",
           "front",
           "tv",
           "have kid",
           "lot",
           "sit tv",
           "not tend",
           "sit front",
           "have lot"
          ],
          "withentity_paths": [
           "sit",
           "sit",
           "sit",
           "sit",
           "sit capableof move around"
          ],
          "withentity_scores": [
           0.3405974595870198,
           0.3405974595870198,
           0.3405974595870198,
           0.3405974595870198,
           10.794838021922248
          ]
         },
         "goldkeywords_intermediate": {
          "entities_inpath": [
           "relax watch",
           "not tend"
          ],
          "withentity_paths": [
           "sit haslastsubevent relax watch isa not tend _ hasprerequisite have",
           "sit hassubevent relax watch isa not tend _ hasprerequisite have",
           "sit hassubevent relax watch isa not tend _ hasprerequisite have",
           "sit hasprerequisite relax watch isa not tend _ capableof have",
           "sit haslastsubevent relax watch isa not tend _ hascontext have"
          ],
          "withentity_scores": [
           2.7998487878187515,
           1.4482279282773804,
           1.4482279282773804,
           2.5393269927609317,
           4.5825684252543
          ]
         },
         "headtotail_paths": [
          "sit _hasfirstsubevent watch evening news hassubevent boredom causesdesire play game of chess motivatedbygoal have",
          "sit _hasfirstsubevent go to film hassubevent take seat _hasfirstsubevent attend meeting motivatedbygoal have",
          "sit _hasfirstsubevent sit on chair motivatedbygoal have",
          "sit _hasfirstsubevent view film at home motivatedbygoal have",
          "sit _ hasprerequisite take midterm motivatedbygoal have"
         ],
         "headtotail_scores": [
          10.703101387758254,
          10.575796749136243,
          7.189007904686648,
          5.84157222187568,
          8.915701415353645
         ]
        },
        "sit---have kid": {
         "augkeywords_intermediate": {
          "entities_inpath": [
           "enjoy",
           "relax watch",
           "front",
           "tv",
           "lot",
           "sit tv",
           "not tend",
           "sit front",
           "have lot"
          ],
          "withentity_paths": [
           "sit isa lot _ hasproperty tv _ hascontext sit front _ hasprerequisite sit tv motivatedbygoal relax watch isa not tend _ capableof sofa usedfor have kid",
           "sit _similarto sit back and relax _haslastsubevent sit tv motivatedbygoal not tend _ hasproperty back _ hasa tv usedfor relax watch _ capableof lot causesdesire have kid",
           "sit similarto sit front _ hasprerequisite watch tv motivatedbygoal relax _haslastsubevent sit at desk _usedfor tv isa lot capableof enjoy _causes have kid",
           "sit _isa sofa _ atlocation tv capableof sit front _similarto back _ hasprerequisite sit tv motivatedbygoal enjoy _hassubevent view film at home hasfirstsubevent have kid",
           "sit _isa find comfortable sofa hasprerequisite sit back and relax _haslastsubevent watch tv hassubevent enjoy _ capableof lot _ hascontext front _ hasa tv usedfor have kid"
          ],
          "withentity_scores": [
           21.610722056394238,
           17.25845394165517,
           17.859138534730697,
           15.208319806250698,
           19.011407109000654
          ]
         },
         "goldkeywords_intermediate": {
          "entities_inpath": [
           "relax watch",
           "not tend"
          ],
          "withentity_paths": [
           "sit similarto not tend _ capableof not tend _ hasprerequisite have kid",
           "sit motivatedbygoal not tend _isa relax watch _hassubevent have kid",
           "sit motivatedbygoal not tend _isa relax watch _hassubevent have kid",
           "sit motivatedbygoal not tend _isa relax watch _ hasprerequisite have kid",
           "sit motivatedbygoal not tend _isa relax watch _hassubevent have kid"
          ],
          "withentity_scores": [
           4.390151903033623,
           1.7972818161352904,
           1.7972818161352904,
           2.8468490960165367,
           1.7972818161352904
          ]
         },
         "headtotail_paths": [
          "sit _ hasprerequisite watch movie motivatedbygoal have kid",
          "sit _hassubevent wait for hasprerequisite stay in one place _ notdesires nomad isa person notdesires have kid",
          "sit _hassubevent having fun usedfor fun _motivatedbygoal jump rope _ causesdesire have kid",
          "sit _ hasprerequisite go to play hassubevent have kid",
          "sit _hassubevent go to play hasfirstsubevent have kid"
         ],
         "headtotail_scores": [
          5.910477744022879,
          6.011475805336354,
          14.512016666510565,
          4.025291558330588,
          4.717882846760084
         ]
        },
        "sit---have lot": {
         "augkeywords_intermediate": {
          "entities_inpath": [
           "enjoy",
           "kid",
           "relax watch",
           "front",
           "tv",
           "sit tv",
           "not tend",
           "sit front",
           "have kid"
          ],
          "withentity_paths": [
           "sit _usedfor sofa _ atlocation back hasa kids capableof sit tv hasfirstsubevent not tend _ hascontext sit front isa enjoy _motivatedbygoal view film at home hasprerequisite have lot",
           "sit similarto sit back and relax _haslastsubevent have kid _ capableof kid similarto envious _ hasproperty toy _isa tv capableof relax watch _hasfirstsubevent sit back and relax hasprerequisite have lot",
           "sit _isa kid capableof sit back and relax _haslastsubevent watch tv hasprerequisite not tend hascontext tv usedfor relax watch _ capableof view from far away _motivatedbygoal sit at table hasprerequisite have lot",
           "sit _similarto sit front _ capableof kid similarto envious _ hasproperty enjoy _motivatedbygoal watch tv hasprerequisite sit at front _usedfor tv isa not tend _ capableof have lot",
           "sit similarto sit back and relax _hassubevent watch tv hasprerequisite sit front _ capableof kid similarto envious _ hasproperty tv usedfor relax watch _haslastsubevent have kid motivatedbygoal have lot"
          ],
          "withentity_scores": [
           27.328117932820774,
           15.32283217534183,
           13.565595574535255,
           11.238959526434229,
           10.336741086569628
          ]
         },
         "goldkeywords_intermediate": {
          "entities_inpath": [
           "relax watch",
           "not tend"
          ],
          "withentity_paths": [
           "sit haslastsubevent relax watch isa not tend _ capableof have lot",
           "sit hasprerequisite relax watch isa not tend _ capableof have lot",
           "sit hasfirstsubevent relax watch isa not tend _ capableof have lot",
           "sit haslastsubevent relax watch isa not tend _ capableof have lot",
           "sit haslastsubevent relax watch isa not tend _ capableof have lot"
          ],
          "withentity_scores": [
           2.002954319588787,
           2.070877841652087,
           3.1744300937225183,
           2.002954319588787,
           2.002954319588787
          ]
         },
         "headtotail_paths": [
          "sit _hasfirstsubevent play sport motivatedbygoal have lot",
          "sit _hasfirstsubevent play soccer motivatedbygoal have lot",
          "sit _ hasprerequisite sit on chair motivatedbygoal have lot",
          "sit _hassubevent go to performance hasprerequisite have lot",
          "sit _hassubevent going to play causes having fun _usedfor playing basketball hasprerequisite have lot"
         ],
         "headtotail_scores": [
          4.664805450405422,
          3.891629402443777,
          4.056864863072582,
          6.296876833152924,
          13.28941983972247
         ]
        },
        "sit---kid": {
         "augkeywords_intermediate": {
          "entities_inpath": [
           "enjoy",
           "relax watch",
           "front",
           "tv",
           "have kid",
           "lot",
           "sit tv",
           "not tend",
           "sit front",
           "have",
           "have lot"
          ],
          "withentity_paths": [
           "sit hasprerequisite have to",
           "sit hasprerequisite sit back and relax _haslastsubevent have party _ causesdesire showroom atlocation tv not hasproperty tend to",
           "sit _similarto sit in",
           "sit hasprerequisite sit back and relax _haslastsubevent have party haslastsubevent sit back and relax _usedfor tv not hasproperty tend to",
           "sit _hasfirstsubevent have kid"
          ],
          "withentity_scores": [
           6.640402178448035,
           12.50593809648888,
           6.409595507159067,
           7.808496483499151,
           5.911343427459689
          ]
         },
         "goldkeywords_intermediate": {
          "entities_inpath": [
           "relax watch",
           "not tend"
          ],
          "withentity_paths": [
           "sit haslastsubevent relax watch isa not tend _ capableof kid",
           "sit hassubevent relax watch _ capableof not tend _ capableof kid",
           "sit haslastsubevent relax watch isa not tend _ capableof kid",
           "sit motivatedbygoal not tend _isa relax watch _ capableof kid",
           "sit hasfirstsubevent relax watch _ capableof not tend _ capableof kid"
          ],
          "withentity_scores": [
           2.5765268648428434,
           1.906567660210298,
           2.5765268648428434,
           1.3141553849545757,
           3.5084693848409203
          ]
         },
         "headtotail_paths": [
          "sit _usedfor seat _ hasa car _ atlocation kid",
          "sit _hasfirstsubevent play lacrosse hasprerequisite get dressed _haslastsubevent go to school _ notdesires kid",
          "sit _hassubevent play _ capableof kid",
          "sit _usedfor floor _ atlocation kids _ hasa chase isa kid",
          "sit _ capableof kid"
         ],
         "headtotail_scores": [
          5.45100093737817,
          16.195269640440102,
          9.336580986115719,
          10.391282210546839,
          0.9651793527530083
         ]
        },
        "sit---lot": {
         "augkeywords_intermediate": {
          "entities_inpath": [
           "enjoy",
           "kid",
           "relax watch",
           "front",
           "tv",
           "have kid",
           "sit tv",
           "not tend",
           "sit front",
           "have",
           "have lot"
          ],
          "withentity_paths": [
           "sit _hasfirstsubevent have kid _ causesdesire boredom",
           "sit",
           "sit hasprerequisite sit at front of",
           "sit hasprerequisite sit back and relax _haslastsubevent have kids _usedfor tv _ hascontext sit back and relax motivatedbygoal not tend to",
           "sit"
          ],
          "withentity_scores": [
           13.42398132046366,
           0.6868059633249344,
           6.078537102505523,
           11.626404141146281,
           0.6868059633249344
          ]
         },
         "goldkeywords_intermediate": {
          "entities_inpath": [
           "relax watch",
           "not tend"
          ],
          "withentity_paths": [
           "sit hasprerequisite relax watch isa not tend _ capableof lot",
           "sit hasprerequisite relax watch isa not tend _ capableof lot",
           "sit hassubevent relax watch isa not tend _ capableof lot",
           "sit motivatedbygoal not tend _isa relax watch _ capableof lot",
           "sit hassubevent relax watch isa not tend _ capableof lot"
          ],
          "withentity_scores": [
           1.9306378056113305,
           1.9306378056113305,
           1.0361828425915367,
           2.2656134417125315,
           1.0361828425915367
          ]
         },
         "headtotail_paths": [
          "sit _ hasprerequisite watch television motivatedbygoal waste time _ capableof people isa less _ hasproperty lot",
          "sit _usedfor front room atlocation hotel hasproperty large _not hasproperty lot",
          "sit _usedfor first floor hasproperty flat _not hasproperty lot",
          "sit _hassubevent playing _usedfor toy marble hasproperty small _not hasproperty lot",
          "sit _usedfor bench atlocation lot"
         ],
         "headtotail_scores": [
          14.715518836484456,
          10.736490978646703,
          4.394003513290592,
          11.618927899869936,
          3.0871078791344093
         ]
        },
        "tv---have": {
         "augkeywords_intermediate": {
          "entities_inpath": [
           "enjoy",
           "kid",
           "relax watch",
           "front",
           "have kid",
           "lot",
           "sit tv",
           "not tend",
           "sit",
           "sit front",
           "have lot"
          ],
          "withentity_paths": [
           "tv not being used",
           "tv _isa find downstairs definedas front of house _ atlocation kid capableof sit on",
           "tv isa not tend",
           "tv not very well suited to watch",
           "tv"
          ],
          "withentity_scores": [
           3.4312599754571895,
           10.003652617450845,
           2.421571224288152,
           9.073008322014216,
           1.8085402345567028
          ]
         },
         "goldkeywords_intermediate": {
          "entities_inpath": [
           "relax watch",
           "not tend"
          ],
          "withentity_paths": [
           "tv usedfor not tend _ hasproperty not tend _ capableof have",
           "tv capableof relax watch isa not tend _ hasprerequisite have",
           "tv usedfor relax watch isa not tend _ hasprerequisite have",
           "tv usedfor not tend _ capableof relax watch _haslastsubevent have",
           "tv usedfor not tend _ hasproperty not tend _ capableof have"
          ],
          "withentity_scores": [
           4.595896774977895,
           0.9333881602930499,
           2.434547231825794,
           2.852258686849356,
           4.595896774977895
          ]
         },
         "headtotail_paths": [
          "tv usedfor watching television causes boredom causesdesire play games hasprerequisite have",
          "tv usedfor entertainment _motivatedbygoal play game of chess hasprerequisite have",
          "tv usedfor watch movie hasfirstsubevent find movie theater _ hasprerequisite go see film hassubevent pay for _haslastsubevent have",
          "tv usedfor watch live television _ hasprerequisite see story motivatedbygoal have",
          "tv usedfor watch movie motivatedbygoal have"
         ],
         "headtotail_scores": [
          6.426595762445983,
          6.427604170854354,
          15.580953790741356,
          8.937996115386083,
          3.7948569610184926
         ]
        },
        "tv---have kid": {
         "augkeywords_intermediate": {
          "entities_inpath": [
           "enjoy",
           "relax watch",
           "front",
           "lot",
           "sit tv",
           "not tend",
           "sit",
           "sit front",
           "have lot"
          ],
          "withentity_paths": [
           "tv atlocation front _ hascontext sit _hassubevent sit at desk hasprerequisite not tend to",
           "tv atlocation front _ hascontext sit hasprerequisite sit back and relax _haslastsubevent enjoy _motivatedbygoal watch movie hasfirstsubevent enjoy _ capableof not tend _ hasprerequisite sit at rest haslastsubevent have kid",
           "tv atlocation front _ hasproperty lot _ hasprerequisite sit on sofa motivatedbygoal relax watch _hassubevent sit at desk motivatedbygoal not tend to",
           "tv atlocation front _ hasproperty lot capableof sit similarto sit back and relax _haslastsubevent sit at desk motivatedbygoal enjoy _hassubevent sit at table hasprerequisite have kid",
           "tv capableof sit behind _ hasprerequisite sit on sofa motivatedbygoal relax _haslastsubevent enjoy _ causesdesire not tend _ hascontext front _ hasproperty lot _motivatedbygoal have kid"
          ],
          "withentity_scores": [
           9.537903470051125,
           16.50299025330474,
           13.806971390222568,
           10.442859305004774,
           16.716592074005675
          ]
         },
         "goldkeywords_intermediate": {
          "entities_inpath": [
           "relax watch",
           "not tend"
          ],
          "withentity_paths": [
           "tv usedfor not tend _ hasproperty not tend _motivatedbygoal have kid",
           "tv capableof not tend _isa relax watch _hasfirstsubevent have kid",
           "tv capableof relax watch isa not tend _ hasprerequisite have kid",
           "tv capableof not tend _isa relax watch _hassubevent have kid",
           "tv capableof relax watch _ hasprerequisite not tend hassubevent have kid"
          ],
          "withentity_scores": [
           4.405082843367246,
           4.683083914500854,
           1.3921520421371587,
           4.005692786679216,
           3.6699989320492317
          ]
         },
         "headtotail_paths": [
          "tv usedfor watch sports _ desires children capableof laugh _hassubevent play game with friends hasprerequisite have kid",
          "tv usedfor watching sports causesdesire play sports hassubevent have kid",
          "tv usedfor watching television show hassubevent have kid",
          "tv _ hasprerequisite watching tv causes have kid",
          "tv usedfor watch movie hassubevent have kid"
         ],
         "headtotail_scores": [
          16.182715467115063,
          4.642356536166997,
          3.970205263801349,
          4.359591608693217,
          2.2303816378269805
         ]
        },
        "tv---have lot": {
         "augkeywords_intermediate": {
          "entities_inpath": [
           "enjoy",
           "kid",
           "relax watch",
           "front",
           "sit tv",
           "not tend",
           "sit",
           "sit front",
           "have kid"
          ],
          "withentity_paths": [
           "tv usedfor watch _isa sit hasprerequisite sit back and relax _haslastsubevent sit in _usedfor seat capableof enjoy _causes have kid _motivatedbygoal sit at table hasprerequisite have lot",
           "tv _ hascontext sit _isa sit back and relax _haslastsubevent sit at desk motivatedbygoal not tend _ capableof kid atlocation front _ hasprerequisite sit tv motivatedbygoal have lot",
           "tv _ hascontext sit back and relax _haslastsubevent watch film motivatedbygoal enjoy _ capableof kid _isa front _ atlocation sit haslastsubevent relax watch _ capableof have lot",
           "tv _ hasprerequisite viewing film at home hassubevent sit _similarto sit back and relax _haslastsubevent enjoy _motivatedbygoal view film at home hasfirstsubevent front _ hasproperty not tend _ hasprerequisite have kid capableof have lot",
           "tv usedfor watching movie hassubevent relax hasprerequisite sit _isa front _ atlocation kid capableof enjoy _motivatedbygoal sit on couch hasprerequisite have kid too"
          ],
          "withentity_scores": [
           18.896971369140505,
           12.719211734368848,
           14.40544815589144,
           18.36274395164226,
           16.122197352200338
          ]
         },
         "goldkeywords_intermediate": {
          "entities_inpath": [
           "relax watch",
           "not tend"
          ],
          "withentity_paths": [
           "tv capableof relax watch isa not tend _ hasprerequisite have lot",
           "tv usedfor relax watch isa not tend _ capableof have lot",
           "tv usedfor relax watch _ capableof not tend _ hasprerequisite have lot",
           "tv usedfor relax watch isa not tend _ hasprerequisite have lot",
           "tv capableof relax watch isa not tend _ hasprerequisite have lot"
          ],
          "withentity_scores": [
           0.513144954573759,
           2.6258107119938248,
           1.8820411787055353,
           4.377624656353651,
           0.513144954573759
          ]
         },
         "headtotail_paths": [
          "tv usedfor watching movie causes have lot",
          "tv usedfor have lot",
          "tv usedfor watch movie motivatedbygoal have lot",
          "tv _ hasprerequisite watching television usedfor pass time _motivatedbygoal play games hasprerequisite have lot",
          "tv usedfor watch sports _motivatedbygoal place baseball hasprerequisite have lot"
         ],
         "headtotail_scores": [
          5.3712055113100625,
          2.911906661683859,
          4.787232876376145,
          12.199974352643473,
          6.451726675853568
         ]
        },
        "tv---kid": {
         "augkeywords_intermediate": {
          "entities_inpath": [
           "enjoy",
           "relax watch",
           "front",
           "have kid",
           "lot",
           "sit tv",
           "not tend",
           "sit",
           "sit front",
           "have",
           "have lot"
          ],
          "withentity_paths": [
           "tv isa not tend to",
           "tv capableof sit in",
           "tv isa not tend",
           "tv capableof sit back and relax",
           "tv not much"
          ],
          "withentity_scores": [
           3.0438469581339387,
           3.850244607046833,
           2.2202134258220467,
           2.9868603377383827,
           4.671544026044012
          ]
         },
         "goldkeywords_intermediate": {
          "entities_inpath": [
           "relax watch",
           "not tend"
          ],
          "withentity_paths": [
           "tv capableof relax watch _ desires not tend _ capableof kid",
           "tv capableof relax watch _ desires not tend _ hasproperty kid",
           "tv usedfor not tend _ capableof not tend _ capableof kid",
           "tv capableof relax watch _hassubevent not tend _isa kid",
           "tv usedfor not tend _ capableof not tend _isa kid"
          ],
          "withentity_scores": [
           1.7153576348705628,
           2.51419337939035,
           2.4892301514669675,
           4.623744112947977,
           2.3510420663198874
          ]
         },
         "headtotail_paths": [
          "tv _ atlocation remote control usedfor control television _ capableof kid",
          "tv usedfor watch news _ capableof kid",
          "tv usedfor watch movie motivatedbygoal entertained _causes going to movie hassubevent watch movie _ capableof kid",
          "tv usedfor watch movie hasfirstsubevent find child _ hasprerequisite play _usedfor toy car _isa kid",
          "tv _ atlocation tv _ hasprerequisite watching tv show usedfor child _isa kid"
         ],
         "headtotail_scores": [
          5.136142649676223,
          3.325648580228179,
          12.584931425329247,
          11.502789952253334,
          14.282269753399946
         ]
        },
        "tv---lot": {
         "augkeywords_intermediate": {
          "entities_inpath": [
           "enjoy",
           "kid",
           "relax watch",
           "front",
           "have kid",
           "sit tv",
           "not tend",
           "sit",
           "sit front",
           "have",
           "have lot"
          ],
          "withentity_paths": [
           "tv capableof sit",
           "tv atlocation kids capableof sit",
           "tv",
           "tv capableof sit",
           "tv capableof sit down hasprerequisite sit back and relax _haslastsubevent have kid _causes play _isa sit in front of mirror motivatedbygoal not tend to"
          ],
          "withentity_scores": [
           2.734941576244487,
           9.375335638147535,
           1.7540980675322264,
           2.734941460642168,
           21.736478796195833
          ]
         },
         "goldkeywords_intermediate": {
          "entities_inpath": [
           "relax watch",
           "not tend"
          ],
          "withentity_paths": [
           "tv capableof relax watch isa not tend _ hasproperty lot",
           "tv usedfor relax watch isa not tend _ capableof lot",
           "tv capableof relax watch isa not tend _ hasproperty lot",
           "tv capableof relax watch isa not tend _ hasproperty lot",
           "tv capableof relax watch isa not tend _ hascontext lot"
          ],
          "withentity_scores": [
           1.5282861565673742,
           2.976859170817132,
           1.5282861565673742,
           1.5282861565673742,
           1.4482824124703098
          ]
         },
         "headtotail_paths": [
          "tv isa lot",
          "tv isa thing _ hascontext lot",
          "tv hasproperty small _not hasproperty lot",
          "tv not hasproperty good _ hasproperty lot",
          "tv not hasproperty good _ hasproperty lot"
         ],
         "headtotail_scores": [
          1.94761927695604,
          3.856691965215769,
          1.5985596249068206,
          2.3082538843909726,
          2.3082538843909726
         ]
        }
       },
       "response": "I relax watching tv when I am not tending to the kids.",
       "response_keywords": [
        "kid",
        "relax watch",
        "not tend"
       ],
       "target": "i have a lot of kids.",
       "target_keywords": [
        "have lot",
        "have kid",
        "have",
        "lot",
        "have",
        "kid"
       ]
      },
      "text/plain": [
       "<IPython.core.display.JSON object>"
      ]
     },
     "metadata": {
      "application/json": {
       "expanded": false,
       "root": "root"
      }
     },
     "output_type": "display_data"
    }
   ],
   "source": [
    "# INPUT_FILE = 'ottersout/augfp4_in_domain_test_out.csv.new.removeoverlap.splitentities.jsonl'\n",
    "INPUT_FILE = 'ottersout/augfp4_out_of_domain_train_out.csv.new.removeoverlap.splitentities.jsonl'\n",
    "out_folder = 'ottersdata/ood_paths_pkrv2_expkey3_thres2.0_try/'\n",
    "\n",
    "import os\n",
    "os.makedirs(os.path.dirname(out_folder), exist_ok=True)\n",
    "\n",
    "apply_reranking = True\n",
    "apply_ranking_topk = 3\n",
    "\n",
    "\n",
    "data_otters = get_json_lines(INPUT_FILE)\n",
    "print(len(data_otters))\n",
    "display(JSON(data_otters[6]))"
   ]
  },
  {
   "cell_type": "code",
   "execution_count": 4,
   "id": "1d53db51-bdf2-4d3c-b2c5-0a706f5f6fdf",
   "metadata": {},
   "outputs": [
    {
     "name": "stdout",
     "output_type": "stream",
     "text": [
      "{'causesdesire', 'locationofaction', 'inheritsfrom', '_influencedby', '_distinctfrom', '_definedas', '_instanceof', '_nothasproperty', 'relatedto', '_motivatedbygoal', '_desireof', '_locatednear', 'instanceof', '_inheritsfrom', 'desireof', 'definedas', '_madeof', 'receivesaction', 'haspaincharacter', 'influencedby', '_hasa', 'atlocation', '_hasproperty', 'hasa', 'haspainintensity', 'hasprerequisite', 'genre', 'partof', 'knownfor', '_causes', '_mannerof', '_haslastsubevent', 'nothasa', 'entails', 'notcapableof', '_capableof', 'createdby', 'distinctfrom', 'notmadeof', '_symbolof', '_atlocation', 'nothasproperty', 'hassubevent', '_knownfor', '_relatedto', '_notcapableof', '_causesdesire', '_hasprerequisite', '_hascontext', 'similarto', '_nothasa', '_hasfirstsubevent', 'causes', '_desires', 'usedfor', 'hascontext', 'hasfirstsubevent', 'desires', '_receivesaction', '_partof', 'madeof', 'haslastsubevent', 'hasproperty', 'notisa', '_notdesires', '_usedfor', '_notisa', 'notdesires', 'capableof', 'locatednear', '_hassubevent', 'motivatedbygoal', 'symbolof', 'mannerof', '_entails', '_isa', '_createdby', '_notmadeof', '_genre', 'isa', '_similarto'}\n"
     ]
    }
   ],
   "source": [
    "rel2text_path = './relation2text.json'\n",
    "with open(rel2text_path, 'r') as fr:\n",
    "    relation2text = json.load(fr)\n",
    "    relation2text =  {k.lower(): v for k, v in relation2text.items()}\n",
    "relation2textset = set(relation2text.keys())\n",
    "print(relation2textset)"
   ]
  },
  {
   "cell_type": "code",
   "execution_count": null,
   "id": "772d910a-ce7b-4b5c-96fd-422661a4c6e2",
   "metadata": {},
   "outputs": [],
   "source": []
  },
  {
   "cell_type": "code",
   "execution_count": null,
   "id": "ef0f0b7f-ebb0-4f8d-8fd9-f71068721cba",
   "metadata": {},
   "outputs": [],
   "source": []
  },
  {
   "cell_type": "code",
   "execution_count": null,
   "id": "79ec7b5a-9e64-4496-a561-97c5285c7872",
   "metadata": {},
   "outputs": [],
   "source": []
  },
  {
   "cell_type": "code",
   "execution_count": null,
   "id": "508c4e32-7723-4710-9095-700e8576929e",
   "metadata": {},
   "outputs": [],
   "source": []
  },
  {
   "cell_type": "code",
   "execution_count": 5,
   "id": "d72a57b3-b9c4-4ec5-814f-44bc3b4bbfc2",
   "metadata": {},
   "outputs": [],
   "source": [
    "\n",
    "    \n",
    "#####    \n",
    "import numpy as np\n",
    "if apply_reranking :\n",
    "    # wget using https://raw.githubusercontent.com/ScriptSmith/topwords/master/counts.txt\n",
    "    gutenberg_counts = open('counts.txt','r').readlines()\n",
    "    gutenberg_counts = [s.strip().split() for s in gutenberg_counts]\n",
    "    gutenberg_word2cnt = {w:int(c) for c,w in gutenberg_counts }\n",
    "    gutenberg_idf = {w:(1.0/math.log(1+c)) for w,c in gutenberg_word2cnt.items()} # more frequnt words have low frequency\n",
    "    # more freuqnt words will have low scores in gutenberg_idf\n",
    "    default_idf_val = 1.0/(math.log(1+1)) # assuming every word occurs at least once\n",
    "    \n",
    "def _idf_score_single(x):\n",
    "    return gutenberg_idf.get(x,default_idf_val)\n",
    "\n",
    "def _idf_score(x,y):\n",
    "#     x_score = np.mean([_idf_score_single(xi) for xi in x.strip().split()] )\n",
    "#     y_score = np.mean([_idf_score_single(yi) for yi in y.strip().split()] )\n",
    "    x_score = np.max([_idf_score_single(xi) for xi in x.strip().split()] )\n",
    "    y_score = np.max([_idf_score_single(yi) for yi in y.strip().split()] )\n",
    "    return x_score + y_score\n",
    "                      \n",
    "#####                      \n"
   ]
  },
  {
   "cell_type": "code",
   "execution_count": 6,
   "id": "52a493fc-5bc2-4fd6-923a-01908896f324",
   "metadata": {},
   "outputs": [
    {
     "name": "stdout",
     "output_type": "stream",
     "text": [
      "0.05276774640435449\n",
      "0.07583078931620979\n",
      "0.1003596968604816\n",
      "0.170625571701647\n",
      "\n",
      "0.15053706472940898\n",
      "0.145320347633289\n",
      "0.14008300749895464\n",
      "0.11207058332493454\n",
      "0.1186056738411601\n",
      "0.18938102893178319\n",
      "0.1700423322680974\n"
     ]
    }
   ],
   "source": [
    "### testing\n",
    "\n",
    "print(gutenberg_idf.get('the',-1)) # # expecting this to be lowest\n",
    "print(gutenberg_idf.get('table',-1))\n",
    "print(gutenberg_idf.get('solar',-1))\n",
    "print(gutenberg_idf.get('logarithm',-1)) # # expecting this to be highest\n",
    "\n",
    "print()\n",
    "print(_idf_score('table','book')) # expecting this to be highest\n",
    "print(_idf_score('give away','book'))\n",
    "print(_idf_score('give','away'))\n",
    "print(_idf_score('the','is')) # expecting this to be lowest\n",
    "print(_idf_score('is the','is')) # expecting this to be lowest\n",
    "print(_idf_score('altitude places','flight'))\n",
    "print(_idf_score('classes','flight'))"
   ]
  },
  {
   "cell_type": "code",
   "execution_count": null,
   "id": "d6864991-2495-4a62-9ba4-393219b8ac36",
   "metadata": {},
   "outputs": [],
   "source": []
  },
  {
   "cell_type": "code",
   "execution_count": null,
   "id": "47d5aad7-eede-4f5a-978c-acbbc23438b6",
   "metadata": {},
   "outputs": [],
   "source": []
  },
  {
   "cell_type": "code",
   "execution_count": null,
   "id": "2c65f5ed-6763-436f-ba66-6eb9489222d0",
   "metadata": {},
   "outputs": [],
   "source": []
  },
  {
   "cell_type": "code",
   "execution_count": null,
   "id": "7447d58a-4460-484a-95fe-8354e87e262b",
   "metadata": {},
   "outputs": [],
   "source": []
  },
  {
   "cell_type": "code",
   "execution_count": null,
   "id": "9c85cc3a-a8a6-4334-a470-8476b0acd7f5",
   "metadata": {},
   "outputs": [],
   "source": []
  },
  {
   "cell_type": "code",
   "execution_count": 7,
   "id": "83d4308d-49a7-4d68-9a1e-1fb9a6844248",
   "metadata": {},
   "outputs": [
    {
     "name": "stdout",
     "output_type": "stream",
     "text": [
      "../naacl-2021-fudge-controlled-generation/ottersdata/ood_paths_pkrv2_expkey3_thres2.0_try/augfp4_out_of_domain_train_out_direct.jsonl 5\n",
      "4\n",
      "../naacl-2021-fudge-controlled-generation/ottersdata/ood_paths_pkrv2_expkey3_thres2.0_try/augfp4_out_of_domain_train_out_goldkeywords.jsonl 5\n",
      "4\n"
     ]
    }
   ],
   "source": [
    "def convert_edgesnames(path):\n",
    "    path_words = path.split()\n",
    "    new_path = []\n",
    "    for w in path_words:\n",
    "        new_word = relation2text.get(w, w)\n",
    "        new_path.append(new_word)\n",
    "    # print(path, new_path)\n",
    "    new_path = ' '.join(new_path)\n",
    "    new_path = new_path.replace('  ', ' ')\n",
    "    \n",
    "    return new_path\n",
    "\n",
    "def get_path_words(path):\n",
    "    relations_all = list(relation2textset)\n",
    "    relations_all.sort()\n",
    "    for r in relations_all:\n",
    "        path = path.replace(r, '----')\n",
    "    path_words = [x.strip() for x in path.split('----')]\n",
    "    return set(path_words)\n",
    "\n",
    "def get_filtered_paths(paths, scores, parse_edges=True, input_entities=None, type=''):\n",
    "    scores, paths = zip(*sorted(zip(scores, paths)))\n",
    "    min_score, max_scores = min(scores), max(scores)\n",
    "    list_pathsadded = []\n",
    "    filt_paths, filt_scores = [], []\n",
    "    # rel_list = ['atlocation', 'capableof', 'causes', 'causesdesire', 'createdby', 'definedas', 'desireof', 'desires', 'hasa', 'hasfirstsubevent', 'haslastsubevent', 'haspaincharacter', 'haspainintensity', 'hasprerequisite', 'hasproperty', 'hassubevent', 'inheritsfrom', 'instanceof', 'isa', 'locatednear', 'locationofaction', 'madeof', 'motivatedbygoal', 'notcapableof', 'notdesires', 'nothasa', 'nothasproperty', 'notisa', 'notmadeof', 'partof', 'receivesaction', 'relatedto', 'symbolof', 'usedfor']\n",
    "    # und_rellist = ['_'+x for x in rel_list]\n",
    "    # relation_set = set(rel_list).union(und_rellist)\n",
    "    for i, path in enumerate(paths):\n",
    "        path = path.replace('_ ', '_')\n",
    "        pathwords = set(path.split())\n",
    "        pathwords_norel = pathwords - relation2textset\n",
    "        pathwords_compound = get_path_words(path)\n",
    "#         pathwords_norel = get_path_words(path)\n",
    "        \n",
    "        ##if too less entities, rmove - TODO its dangerous might have to remove or write a better version\n",
    "        if type is not 'aug' and input_entities is not None and (len(pathwords_norel)<len(input_entities)-3):# or len(pathwords_norel)>len(input_entities)+1):\n",
    "            # print(pathwords_norel, path, input_entities)\n",
    "            continue\n",
    "        if len(pathwords_norel)<2:\n",
    "            # print(path, input_entities)\n",
    "            #make the final part of path same as the enitity itself if the path only has one entity\n",
    "            # print(path, pathwords_norel)\n",
    "            path = ', '.join(str(e) for e in pathwords_norel)\n",
    "            # continue\n",
    "            \n",
    "        #only add paths if ppl<2*min ppl\n",
    "        if scores[i]<2.0*min_score:\n",
    "            # print(path, '1--1', filt_paths, path in filt_paths)\n",
    "            # print(input_entities)\n",
    "            if input_entities is not None:\n",
    "                path_specificwords = set(path.split())\n",
    "                path_specificwords = path_specificwords-relation2textset\n",
    "                for multiword in input_entities:\n",
    "                    for word in multiword.split():\n",
    "                        if word not in input_entities:\n",
    "                            input_entities.append(word)\n",
    "                extraents = path_specificwords-set(input_entities)\n",
    "                #some entities in path are extra\n",
    "                if len(extraents)>1:\n",
    "                    # print(extraents, path, set(input_entities))\n",
    "                    continue\n",
    "            if parse_edges:\n",
    "                path = convert_edgesnames(path)\n",
    "            if path in filt_paths: # avooid repetition\n",
    "                continue\n",
    "            # print(path, '--', filt_paths, path in filt_paths)\n",
    "            if pathwords_compound in list_pathsadded:\n",
    "                continue\n",
    "            filt_paths.append(path)\n",
    "            filt_scores.append(scores[i])\n",
    "            list_pathsadded.append(pathwords_compound)\n",
    "\n",
    "    return filt_paths, filt_scores\n",
    "\n",
    "\n",
    "def get_min_path(paths, scores, parse_edges=True):\n",
    "    min_score, max_scores = min(scores), max(scores)\n",
    "    filt_paths, filt_scores = [], []\n",
    "    for i, path in enumerate(paths):\n",
    "        path = path.replace('_ ', '_')\n",
    "        if scores[i]==min_score:\n",
    "            filt_path=path\n",
    "            filt_score=(scores[i])\n",
    "    \n",
    "    if parse_edges:\n",
    "        filt_path = convert_edgesnames(filt_path)\n",
    "    # print(paths, filt_path)\n",
    "    return filt_path, filt_score\n",
    "\n",
    "# relations = {\"AtLocation\":\"at location\",\"CapableOf\":\"capable of\",\"Causes\":\"causes\",\"CausesDesire\":\"causes desire\",\"CreatedBy\":\"created by\",\"DefinedAs\":\"defined as\",\"DesireOf\":\"desire of\",\"Desires\":\"desires\",\"HasA\":\"has a\",\"HasFirstSubevent\":\"has first subevent\",\"HasLastSubevent\":\"has last subevent\",\"HasPainCharacter\":\"has pain character\",\"HasPainIntensity\":\"has pain intensity\",\"HasPrerequisite\":\"has prequisite\",\"HasProperty\":\"has property\",\"HasSubevent\":\"has subevent\",\"InheritsFrom\":\"inherits from\",\"InstanceOf\":\"instance of\",\"IsA\":\"is a\",\"LocatedNear\":\"located near\",\"LocationOfAction\":\"location of action\",\"MadeOf\":\"made of\",\"MotivatedByGoal\":\"motivated by goal\",\"NotCapableOf\":\"not capable of\",\"NotDesires\":\"not desires\",\"NotHasA\":\"not has a\",\"NotHasProperty\":\"not has property\",\"NotIsA\":\"not is a\",\"NotMadeOf\":\"not made of\",\"PartOf\":\"part of\",\"ReceivesAction\":\"receives action\",\"RelatedTo\":\"related to\",\"SymbolOf\":\"symbol of\",\"UsedFor\":\"used for\"}\n",
    "# relationsnames = ([x.lower() for x in relations.keys()]); print(relationsnames)\n",
    "\n",
    "def remove_prefix(text, prefix):\n",
    "    if text.startswith(prefix):\n",
    "        return text[len(prefix):].strip()\n",
    "    return text \n",
    "\n",
    "\n",
    "extra_stopwords = [\"lot\", \"person\", \"have\", \"not\", \"also\", \"very\", \"often\", \"however\", \"too\", \"usually\", \"really\", \"early\", \"never\", \"always\", \"sometimes\", \"together\", \"likely\", \"simply\", \"generally\", \"instead\", \"actually\", \"again\", \"rather\", \"almost\", \"especially\", \"ever\", \"quickly\", \"probably\", \"already\", \"below\", \"directly\", \"therefore\", \"else\", \"thus\", \"easily\", \"eventually\", \"exactly\", \"certainly\", \"normally\", \"currently\", \"extremely\", \"finally\", \"constantly\", \"properly\", \"soon\", \"specifically\", \"ahead\", \"daily\", \"highly\", \"immediately\", \"relatively\", \"slowly\", \"fairly\", \"primarily\", \"completely\", \"ultimately\", \"widely\", \"recently\", \"seriously\", \"frequently\", \"fully\", \"mostly\", \"naturally\", \"nearly\", \"occasionally\", \"carefully\", \"clearly\", \"essentially\", \"possibly\", \"slightly\", \"somewhat\", \"equally\", \"greatly\", \"necessarily\", \"personally\", \"rarely\", \"regularly\", \"similarly\", \"basically\", \"closely\", \"effectively\", \"initially\", \"literally\", \"mainly\", \"merely\", \"gently\", \"hopefully\", \"originally\", \"roughly\", \"significantly\", \"totally\", \"twice\", \"elsewhere\", \"everywhere\", \"obviously\", \"perfectly\", \"physically\", \"successfully\", \"suddenly\", \"truly\", \"virtually\", \"altogether\", \"anyway\", \"automatically\", \"deeply\", \"definitely\", \"deliberately\", \"hardly\", \"readily\", \"terribly\", \"unfortunately\", \"forth\", \"briefly\", \"moreover\", \"strongly\", \"honestly\", \"previously\", \"as\", \"there\", \"when\", \"how\", \"so\", \"up\", \"out\", \"no\", \"only\", \"well\", \"then\", \"first\", \"where\", \"why\", \"now\", \"around\", \"once\", \"down\", \"off\", \"here\", \"away\", \"today\", \"far\", \"quite\", \"later\", \"above\", \"yet\", \"maybe\", \"otherwise\", \"near\", \"forward\", \"somewhere\", \"anywhere\", \"please\", \"forever\", \"somehow\", \"absolutely\", \"abroad\", \"yeah\", \"nowhere\", \"the\", \"to\", \"in\", \"on\", \"by\", \"more\", \"about\", \"such\", \"through\", \"new\", \"just\", \"any\", \"each\", \"much\", \"before\", \"between\", \"free\", \"right\", \"best\", \"since\", \"both\", \"sure\", \"without\", \"back\", \"better\", \"enough\", \"lot\", \"small\", \"though\", \"less\", \"little\", \"under\", \"next\", \"hard\", \"real\", \"left\", \"least\", \"short\", \"last\", \"within\", \"along\", \"lower\", \"TRUE\", \"bad\", \"across\", \"clear\", \"easy\", \"full\", \"close\", \"late\", \"proper\", \"fast\", \"wide\", \"item\", \"wrong\", \"ago\", \"behind\", \"quick\", \"straight\", \"direct\", \"extra\", \"pretty\", \"overall\", \"alone\", \"bright\", \"flat\", \"whatever\", \"slow\", \"clean\", \"fresh\", \"whenever\", \"cheap\", \"thin\", \"cool\", \"fair\", \"fine\", \"smooth\", \"FALSE\", \"thick\", \"nearby\", \"wild\", \"apart\", \"none\", \"strange\", \"aside\", \"super\", \"ill\", \"honest\", \"ok\", \"thanks\"]\n",
    "   \n",
    "def process_data(data, INPUT_FILE, out_folder,type_use='direct', parse_edges=True, is_test=False):\n",
    "    outfile_name = out_folder+INPUT_FILE.split('/')[-1].split('.')[0]+ '_' + type_use + '.jsonl'\n",
    "    if is_test==True: outfile_name = out_folder+INPUT_FILE.split('/')[-1].split('.')[0]+ '_istest_' + type_use + '.jsonl'\n",
    "    print(outfile_name, len(data))\n",
    "    context_target_refs = {}\n",
    "    for i, dp in enumerate(data[:]):\n",
    "        dp['context'], dp['target'] = dp['context'].strip(), dp['target'].strip()\n",
    "        if (dp['context'], dp['target']) not in context_target_refs:\n",
    "#             print(dp['context'], dp['target'])\n",
    "            context_target_refs[(dp['context'], dp['target'])] = []\n",
    "        context_target_refs[(dp['context'], dp['target'])].append(dp['response'])\n",
    "    print(len(context_target_refs))\n",
    "#     print(context_target_refs.keys())\n",
    "    with open(outfile_name, 'w') as out:\n",
    "        for i, dp in enumerate(data[:]):\n",
    "            all_head_tails = []\n",
    "            for ht in dp['paths'].keys():\n",
    "                head, tail = ht.split('---')\n",
    "                all_head_tails.append((head, tail))\n",
    "#             print('all_head_tails', all_head_tails)\n",
    "            # TODO add reranking and filter logic\n",
    "            filtered_head_tails = []\n",
    "            for ht_pair in all_head_tails:\n",
    "                h,t = ht_pair\n",
    "                if h in extra_stopwords or t in extra_stopwords:\n",
    "                    continue\n",
    "                if  type(h) is str and len(h)<2 or len(t)<2:\n",
    "                    continue\n",
    "                filtered_head_tails.append(ht_pair)\n",
    "            reranked_head_tails = filtered_head_tails\n",
    "            \n",
    "            ##add reranking\n",
    "            if apply_reranking:\n",
    "                all_head_tails_scores = [ [x,y,_idf_score(x,y)] for x,y in reranked_head_tails]\n",
    "                all_head_tails_scores = sorted(all_head_tails_scores, key=lambda k:-k[2]) # decreasing score\n",
    "                reranked_head_tails = [ [x,y] for x,y,_ in all_head_tails_scores[:apply_ranking_topk] ] \n",
    "            \n",
    "            #reranked_head_tails = reranked_head_tails\n",
    "#             print('reranked_head_tails', reranked_head_tails)\n",
    "\n",
    "            for ht in reranked_head_tails:\n",
    "                ht = ht[0]+'---'+ht[1]\n",
    "                head, tail = ht.split('---')\n",
    "                if 'direct' in type_use:\n",
    "                    paths, scores = dp['paths'][ht]['headtotail_paths'], dp['paths'][ht]['headtotail_scores']\n",
    "                    \n",
    "                    if is_test is True:\n",
    "                        path, score = get_min_path(paths, scores, parse_edges=True)\n",
    "                        newdp = {'context':dp['context'], 'target': dp['target'], 'response': dp['response']}\n",
    "                        newdp['path'] = path\n",
    "                        newdp['score_path'] = score\n",
    "                        newdp['type'] = 'direct'                     \n",
    "                        newdp['path_headentity'] = head\n",
    "                        newdp['path_tailentity'] = tail\n",
    "                        newdp['outputs'] = context_target_refs[(dp['context'], dp['target'])]\n",
    "                        json.dump(newdp, out)\n",
    "                        out.write('\\n')\n",
    "                        continue\n",
    "                    \n",
    "                    paths, scores = get_filtered_paths(paths, scores, parse_edges=True)\n",
    "                    for i, path in enumerate(paths):\n",
    "                        # newdp = copy.deepcopy(dp)\n",
    "                        newdp = {'context':dp['context'], 'target': dp['target'], 'response': dp['response']}\n",
    "                        newdp['path'] = path\n",
    "                        newdp['score_path'] = scores[i]\n",
    "                        newdp['type'] = 'direct'\n",
    "                        newdp['path_headentity'] = head\n",
    "                        newdp['path_tailentity'] = tail\n",
    "                        newdp['outputs'] = context_target_refs[(dp['context'], dp['target'])]\n",
    "                        json.dump(newdp, out)\n",
    "                        out.write('\\n')\n",
    "                if 'augkeywords' in type_use:\n",
    "                    withentity_val = dp['paths'][ht]['augkeywords_intermediate']\n",
    "                    paths, scores = withentity_val['withentity_paths'], withentity_val['withentity_scores']\n",
    "                    entities_inpath = withentity_val['entities_inpath']\n",
    "                    input_entities=[head,tail]+ dp['context_keywords']+ dp['target_keywords']\n",
    "                    for x in entities_inpath:\n",
    "                        input_entities+=x.split()\n",
    "                    # print(input_entities)\n",
    "                    if is_test is True:\n",
    "                        path, score = get_min_path(paths, scores, parse_edges=True)\n",
    "                        newdp = {'context':dp['context'], 'target': dp['target'], 'response': dp['response']}\n",
    "                        newdp['path'] = path\n",
    "                        newdp['score_path'] = score\n",
    "                        newdp['type'] = 'augkeywords'\n",
    "                        newdp['path_headentity'] = head\n",
    "                        newdp['path_tailentity'] = tail\n",
    "                        newdp['entities_inpath'] = entities_inpath\n",
    "                        newdp['outputs'] = context_target_refs[(dp['context'], dp['target'])]\n",
    "                        json.dump(newdp, out)\n",
    "                        out.write('\\n')\n",
    "                    else:                        \n",
    "                        paths, scores = get_filtered_paths(paths, scores, parse_edges=True, input_entities=input_entities, type='aug')\n",
    "                        for i, path in enumerate(paths):\n",
    "                            if head not in path:\n",
    "                                continue\n",
    "                            newdp = {'context':dp['context'], 'target': dp['target'], 'response': dp['response']}\n",
    "                            newdp['path'] = path\n",
    "                            newdp['score_path'] = scores[i]\n",
    "                            newdp['type'] = 'augkeywords'\n",
    "                            newdp['path_headentity'] = head\n",
    "                            newdp['path_tailentity'] = tail\n",
    "                            newdp['entities_inpath'] = entities_inpath\n",
    "                            newdp['outputs'] = context_target_refs[(dp['context'], dp['target'])]\n",
    "                            json.dump(newdp, out)\n",
    "                            out.write('\\n')\n",
    "                            \n",
    "                if 'goldkeywords' in type_use:\n",
    "                    withentity_val = dp['paths'][ht]['goldkeywords_intermediate']\n",
    "                    paths, scores = withentity_val['withentity_paths'], withentity_val['withentity_scores']\n",
    "                    entities_inpath = withentity_val['entities_inpath']\n",
    "                    input_entities=[head,tail]\n",
    "                    for x in entities_inpath:\n",
    "                        input_entities+=x.split()\n",
    "                    if is_test is True:\n",
    "                        path, score = get_min_path(paths, scores, parse_edges=True)\n",
    "                        newdp = {'context':dp['context'], 'target': dp['target'], 'response': dp['response']}\n",
    "                        newdp['path'] = path\n",
    "                        newdp['score_path'] = score\n",
    "                        newdp['type'] = 'goldkeywords'\n",
    "                        newdp['path_headentity'] = head\n",
    "                        newdp['path_tailentity'] = tail\n",
    "                        newdp['entities_inpath'] = entities_inpath\n",
    "                        newdp['outputs'] = context_target_refs[(dp['context'], dp['target'])]\n",
    "                        json.dump(newdp, out)\n",
    "                        out.write('\\n')\n",
    "                    else:                        \n",
    "                        paths, scores = get_filtered_paths(paths, scores, parse_edges=True, input_entities=input_entities)\n",
    "                        for i, path in enumerate(paths):\n",
    "                            if head not in path:\n",
    "                                continue\n",
    "                            newdp = {'context':dp['context'], 'target': dp['target'], 'response': dp['response']}\n",
    "                            newdp['path'] = path\n",
    "                            newdp['score_path'] = scores[i]\n",
    "                            newdp['type'] = 'goldkeywords'\n",
    "                            newdp['path_headentity'] = head\n",
    "                            newdp['path_tailentity'] = tail\n",
    "                            newdp['entities_inpath'] = entities_inpath\n",
    "                            newdp['outputs'] = context_target_refs[(dp['context'], dp['target'])]\n",
    "                            json.dump(newdp, out)\n",
    "                            out.write('\\n')\n",
    "#                     if 'splitentitypath' in type_use:\n",
    "#                         headtoentity_paths, headtoentity_scores = withentity_val['headtoentity_paths'], withentity_val['headtoentity_scores']\n",
    "#                         headtoentity_paths, headtoentity_scores = get_filtered_paths(headtoentity_paths, headtoentity_scores, parse_edges=True)\n",
    "#                         entitytotail_paths, entitytotail_scores = withentity_val['entityto_paths'], withentity_val['entityto_scores']\n",
    "#                         entitytotail_paths, entitytotail_scores = get_filtered_paths(entitytotail_paths, entitytotail_scores, parse_edges=True)\n",
    "#                         for indh, htoe in enumerate(headtoentity_paths):\n",
    "#                             for indt, etot in enumerate(entitytotail_paths):\n",
    "#                                 # if head not in htoe or tail not in etot:\n",
    "#                                 #     print('ABsent', head, '..', tail, '--', htoe, '-->' ,etot)\n",
    "#                                 #     continue\n",
    "#                                 newdp = {'context':dp['context'], 'target': dp['target'], 'response': dp['response']}\n",
    "#                                 newdp['path'] = htoe + ' ' + remove_prefix(etot, withentity)\n",
    "#                                 newdp['score_path'] = headtoentity_scores[indh] + entitytotail_scores[indt]\n",
    "#                                 newdp['type'] = 'splitentitypath'\n",
    "#                                 newdp['path_headentity'] = head\n",
    "#                                 newdp['path_tailentity'] = tail\n",
    "#                                 newdp['withentity'] = withentity\n",
    "#                                 # newdp['headtoentity_path'] = htoe\n",
    "#                                 # newdp['entitytotail_path'] = etot\n",
    "#                                 json.dump(newdp, out)\n",
    "#                                 out.write('\\n')\n",
    "                # for kchild in dp['paths'][k].keys():\n",
    "                #     if '_paths' in kchild:\n",
    "                        \n",
    "        \n",
    "\n",
    "# #type_use direct augkeywords goldkeywords\n",
    "# process_data(data, INPUT_FILE, out_folder, type_use='direct', parse_edges=True, is_test=False)\n",
    "# process_data(data, INPUT_FILE, out_folder, type_use='augkeywords', parse_edges=True, is_test=False)\n",
    "# process_data(data, INPUT_FILE, out_folder, type_use='goldkeywords', parse_edges=True, is_test=False)\n",
    "\n",
    "\n",
    "\n",
    "'''\n",
    "## NOTE - goldkeywords are used in alignement for train and dev files only. FOr test,only directis useful that does not use keywords from the goldresponse\n",
    "'''\n",
    "\n",
    "#type_use direct augkeywords goldkeywords\n",
    "process_data(data_otters[:5], INPUT_FILE, out_folder, type_use='direct', parse_edges=True, is_test=False)\n",
    "# process_data(data_otters, INPUT_FILE, out_folder, type_use='augkeywords', parse_edges=True, is_test=False)\n",
    "process_data(data_otters[:5], INPUT_FILE, out_folder, type_use='goldkeywords', parse_edges=True, is_test=False)\n",
    "\n"
   ]
  },
  {
   "cell_type": "code",
   "execution_count": 217,
   "id": "0030e578-1964-40e7-b8a9-3a8103a6cc71",
   "metadata": {},
   "outputs": [
    {
     "name": "stdout",
     "output_type": "stream",
     "text": [
      "../naacl-2021-fudge-controlled-generation/ottersdata/abl-outofdomainkeys/augfp4_out_of_domain_test_out_istest_direct.jsonl 989\n",
      "364\n",
      "../naacl-2021-fudge-controlled-generation/ottersdata/abl-outofdomainkeys/augfp4_out_of_domain_test_out_istest_goldkeywords.jsonl 989\n",
      "364\n"
     ]
    }
   ],
   "source": [
    "'''\n",
    "use this cell for preparing teh test files and data only\n",
    "'''\n",
    "\n",
    "#type_use direct augkeywords goldkeywords\n",
    "process_data(data_otters, INPUT_FILE, out_folder, type_use='direct', parse_edges=True, is_test=True)\n",
    "\n",
    "\n"
   ]
  },
  {
   "cell_type": "code",
   "execution_count": null,
   "id": "d585aff1-fd5c-4cce-8b1e-8cff1b4d32c3",
   "metadata": {},
   "outputs": [],
   "source": []
  }
 ],
 "metadata": {
  "kernelspec": {
   "display_name": "acommon",
   "language": "python",
   "name": "acommon"
  },
  "language_info": {
   "codemirror_mode": {
    "name": "ipython",
    "version": 3
   },
   "file_extension": ".py",
   "mimetype": "text/x-python",
   "name": "python",
   "nbconvert_exporter": "python",
   "pygments_lexer": "ipython3",
   "version": "3.6.13"
  }
 },
 "nbformat": 4,
 "nbformat_minor": 5
}
